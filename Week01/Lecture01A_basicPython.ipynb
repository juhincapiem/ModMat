{
 "cells": [
  {
   "cell_type": "markdown",
   "id": "e6fd90d3",
   "metadata": {},
   "source": [
    "##### Introducción a Python y Jupyter-notebooks\n",
    "\n",
    "### Juan S. Hincapié - Carlos Duque-Daza"
   ]
  },
  {
   "cell_type": "markdown",
   "id": "a8f3fd1a",
   "metadata": {},
   "source": [
    "### Introducción - ¿Por qué usamos Python?\n",
    "\n",
    "<div align='justify'>Python es un lenguaje de programación ampliamente utilizado en las aplicaciones web, el desarrollo de software, la ciencia de datos y el machine learning (ML). Los desarrolladores utilizan Python porque es eficiente y fácil de aprender, además de que se puede ejecutar en muchas plataformas diferentes. El software Python se puede descargar gratis, se integra bien a todos los tipos de sistemas y aumenta la velocidad del desarrollo.</div>\n",
    "\n",
    "Python tiene muchas ventajas:\n",
    "1. Los desarrolladores pueden leer y comprender fácilmente los programas de Python debido a su sintaxis básica similar a la del inglés. \n",
    "1. Python cuenta con una gran biblioteca estándar que contiene códigos reutilizables para casi cualquier tarea. De esta manera, los desarrolladores no tienen que escribir el código desde cero.\n",
    "1. Hay muchos recursos útiles disponibles en Internet si desea aprender Python. Por ejemplo, puede encontrar con facilidad videos, tutoriales, documentación y guías para desarrolladores.\n",
    "\n",
    "\n",
    "### Tipos de variable\n",
    "\n",
    "1. ¿Qué tipos de variables existen? Enteros, punto flotante, booleano, nulo\n",
    "1. ¿Cómo se da la asignación de variables? Nombre de la variable = valor por asignar\n",
    "1. ¿Qué nombres de variables son válidos? Deben empezar por letra o barra al piso \" \\_ \", y puede contener números, letras y barra al piso \" \\_ \""
   ]
  },
  {
   "cell_type": "code",
   "execution_count": 6,
   "id": "1fbba125",
   "metadata": {},
   "outputs": [
    {
     "name": "stdout",
     "output_type": "stream",
     "text": [
      "2\n",
      "9223372036854775807\n"
     ]
    }
   ],
   "source": [
    "# Integer\n",
    "a = 2\n",
    "print(a)\n",
    "\n",
    "# Integer\n",
    "b = 9223372036854775807\n",
    "print(b)"
   ]
  },
  {
   "cell_type": "code",
   "execution_count": 7,
   "id": "3cae774d",
   "metadata": {},
   "outputs": [
    {
     "name": "stdout",
     "output_type": "stream",
     "text": [
      "3.14\n"
     ]
    }
   ],
   "source": [
    "# Floating point\n",
    "pi = 3.14\n",
    "print(pi)"
   ]
  },
  {
   "cell_type": "code",
   "execution_count": 41,
   "id": "cf4d59c0",
   "metadata": {},
   "outputs": [
    {
     "name": "stdout",
     "output_type": "stream",
     "text": [
      "A\n",
      "Turin Turanbar\n"
     ]
    }
   ],
   "source": [
    "# String\n",
    "c = 'A'\n",
    "print(c)\n",
    "\n",
    "# String\n",
    "name = 'Turin Turanbar'\n",
    "print(name)"
   ]
  },
  {
   "cell_type": "code",
   "execution_count": 9,
   "id": "1a11d984",
   "metadata": {},
   "outputs": [
    {
     "name": "stdout",
     "output_type": "stream",
     "text": [
      "True\n",
      "None\n"
     ]
    }
   ],
   "source": [
    "# Boolean\n",
    "q = True\n",
    "print(q)\n",
    "\n",
    "# Empty value or null data type\n",
    "x = None\n",
    "print(x)"
   ]
  },
  {
   "cell_type": "markdown",
   "id": "82a47b8d",
   "metadata": {},
   "source": [
    "### Operadores y operandos\n",
    "\n",
    "<div align='justify'>Los operadores son símbolos especiales que representan cálculos como la suma y la multiplicación. Los valores a los que se aplica el operador se denominan operandos.</div><br>\n",
    "\n",
    "<div align='justify'>Los operadores +, -, *, / y ** realizan operaciones de suma, resta, multiplicación, división y exponenciación, como en los ejemplos siguientes:</div>\n",
    "\n",
    "| Operador | Nombre |\n",
    "| --- | --- |\n",
    "| + | Suma | \n",
    "| - | Resta | \n",
    "| * | Multiplicación |\n",
    "| / | División |\n",
    "| % | Módulo | \n",
    "| ** | Potencia |\n",
    "| // | División entera |"
   ]
  },
  {
   "cell_type": "code",
   "execution_count": 3,
   "id": "85ee80d1",
   "metadata": {},
   "outputs": [
    {
     "name": "stdout",
     "output_type": "stream",
     "text": [
      "52\n",
      "3\n",
      "328\n",
      "1.4666666666666666\n",
      "25\n",
      "112\n",
      "1\n"
     ]
    }
   ],
   "source": [
    "hour = 4\n",
    "minute = 88\n",
    "\n",
    "print(20+32)\n",
    "\n",
    "print(hour-1)\n",
    "\n",
    "#¿Qué operación se ejecuta primero?\n",
    "print(hour*60+minute)\n",
    "\n",
    "print(minute/60)\n",
    "\n",
    "#¿Qué significa **?\n",
    "print(5**2)\n",
    "\n",
    "#¿Cuál es el orden de las operaciones a ejecutar?\n",
    "print((5+9)*(15-7))\n",
    "\n",
    "print(11%2)"
   ]
  },
  {
   "cell_type": "markdown",
   "id": "0a1676cb",
   "metadata": {},
   "source": [
    "### Usando el comando input\n",
    "\n",
    "<div align='justify'>A veces nos gustaría tomar el valor de una variable del usuario a través de su teclado. Python proporciona una función incorporada llamada input que obtiene la entrada del teclado1. Cuando se llama a esta función, el programa se detiene y espera a que el usuario escriba algo. Cuando el usuario presiona Return o Enter, el programa se reanuda y input devuelve lo que el usuario escribió como una cadena.</div>"
   ]
  },
  {
   "cell_type": "code",
   "execution_count": 6,
   "id": "fdbc1bd5",
   "metadata": {},
   "outputs": [
    {
     "name": "stdout",
     "output_type": "stream",
     "text": [
      "Cuál es tu nombre?\n",
      "JuanSe\n",
      "<class 'str'>\n"
     ]
    }
   ],
   "source": [
    "name = input('Cuál es tu nombre?\\n')\n",
    "print(type(name))"
   ]
  },
  {
   "cell_type": "code",
   "execution_count": 4,
   "id": "9c66b7a0",
   "metadata": {},
   "outputs": [
    {
     "name": "stdout",
     "output_type": "stream",
     "text": [
      "Cuánto dinero ganas?\n",
      "0\n",
      "<class 'str'>\n"
     ]
    }
   ],
   "source": [
    "salario = input('¿Cuánto dinero ganas?\\n')\n",
    "salario = (salario)\n",
    "print(type(salario))"
   ]
  },
  {
   "cell_type": "markdown",
   "id": "62df2bb0",
   "metadata": {},
   "source": [
    "**Ejercicio:** Escriba un programa que utilice la entrada para pedir al usuario su nombre y luego darle la bienvenida. Tenga en cuenta que la entrada mostrará un cuadro de diálogo."
   ]
  },
  {
   "cell_type": "code",
   "execution_count": 1,
   "id": "12773478",
   "metadata": {},
   "outputs": [
    {
     "name": "stdout",
     "output_type": "stream",
     "text": [
      "¿Cuál es tu nombre? :)\n",
      "Juanse\n",
      "Bienvenido\n"
     ]
    }
   ],
   "source": []
  },
  {
   "cell_type": "markdown",
   "id": "90d6fec7",
   "metadata": {},
   "source": [
    "**Ejercicio:** Escriba un programa que pida al usuario las horas y la tarifa por hora utilizando la entrada para calcular el salario bruto. Utilice 35 horas y una tarifa de 30 mil por hora para probar el programa (la paga debería ser de 1'050,000). Debe utilizar input para leer una cadena y float() para convertir la cadena en un número. No se preocupe por la comprobación de errores ni por los datos erróneos del usuario."
   ]
  },
  {
   "cell_type": "code",
   "execution_count": 13,
   "id": "f432ea6c",
   "metadata": {},
   "outputs": [
    {
     "name": "stdout",
     "output_type": "stream",
     "text": [
      "9.6\n"
     ]
    }
   ],
   "source": []
  },
  {
   "cell_type": "markdown",
   "id": "59ed4c61",
   "metadata": {},
   "source": [
    "**Ejercicio:** Escribir un programa que pida al usuario una temperatura Celsius, convertir la temperatura a Fahrenheit, e imprimir la temperatura convertida.\n",
    "\n",
    "\\begin{equation*}\n",
    "        F = C\\times \\frac{9}{5} +32\n",
    "\\end{equation*}"
   ]
  },
  {
   "cell_type": "code",
   "execution_count": null,
   "id": "e7a01679",
   "metadata": {},
   "outputs": [],
   "source": []
  },
  {
   "cell_type": "markdown",
   "id": "9db5a53e",
   "metadata": {},
   "source": [
    "### Finos con print\n",
    "\n",
    "<div align='justify'>Hasta ahora hemos visto unas cuantas aplicaciones del comando <b>print</b>. Sin emabrgo, esto es sólo la punta del iceberg... ¡Podemos hacer mucho más con print! En los siguientes ejemplos se muestra cómo darle formato a los números que se quieren imprimir en pantalla, y es bastante útil. Miremos en detalle cada uno de ellos. </div>"
   ]
  },
  {
   "cell_type": "code",
   "execution_count": 5,
   "id": "3165f2dc",
   "metadata": {},
   "outputs": [],
   "source": [
    "num = 435.2345"
   ]
  },
  {
   "cell_type": "code",
   "execution_count": 10,
   "id": "6223578f",
   "metadata": {},
   "outputs": [
    {
     "name": "stdout",
     "output_type": "stream",
     "text": [
      "The number is: 435.2345\n"
     ]
    }
   ],
   "source": [
    "print(\"The number is:\", num)"
   ]
  },
  {
   "cell_type": "code",
   "execution_count": 6,
   "id": "2fa9c68c",
   "metadata": {},
   "outputs": [
    {
     "name": "stdout",
     "output_type": "stream",
     "text": [
      "The number is: 435.2\n"
     ]
    }
   ],
   "source": [
    "print(\"The number is: {:.1f}\".format(num))"
   ]
  },
  {
   "cell_type": "code",
   "execution_count": 17,
   "id": "6819cc5a",
   "metadata": {},
   "outputs": [
    {
     "name": "stdout",
     "output_type": "stream",
     "text": [
      "The number is: 435.2\n"
     ]
    }
   ],
   "source": [
    "print(f\"The number is: {num:.1f}\")"
   ]
  },
  {
   "cell_type": "code",
   "execution_count": 27,
   "id": "81e27fcc",
   "metadata": {},
   "outputs": [
    {
     "name": "stdout",
     "output_type": "stream",
     "text": [
      "The number is: 435.2\n"
     ]
    }
   ],
   "source": [
    "print(\"The number is: %.1f\" %(num))"
   ]
  },
  {
   "cell_type": "code",
   "execution_count": 20,
   "id": "6f478fd8",
   "metadata": {},
   "outputs": [
    {
     "name": "stdout",
     "output_type": "stream",
     "text": [
      "The number is: 4.4e+02\n"
     ]
    }
   ],
   "source": [
    "print(\"The number is: %.1e\" %(num))"
   ]
  },
  {
   "cell_type": "code",
   "execution_count": 25,
   "id": "a27707c1",
   "metadata": {},
   "outputs": [
    {
     "name": "stdout",
     "output_type": "stream",
     "text": [
      "The number is: 435\n"
     ]
    }
   ],
   "source": [
    "print(\"The number is: %d\" %(num))"
   ]
  },
  {
   "cell_type": "markdown",
   "id": "4cc92d67",
   "metadata": {},
   "source": [
    "**Ejercicio:** Imprima el porcentaje de preguntas correctas con 2 cifras decimales. El comando de imprimir y de calcular deben estar en la misma línea. \n",
    "\n",
    "*Tip: para imprimir en porcentaje podría usar \" % \" al final del indicativo del número de decimales. Ya no haría falta multiplicar por 100.*"
   ]
  },
  {
   "cell_type": "code",
   "execution_count": 5,
   "id": "f5ee6904",
   "metadata": {},
   "outputs": [
    {
     "name": "stdout",
     "output_type": "stream",
     "text": [
      "Porcentaje: 76.67%\n"
     ]
    }
   ],
   "source": [
    "preguntas = 30\n",
    "respuestas_correctas = 23\n",
    "\n",
    "print(\"Porcentaje: {:.2%}\".format(respuestas_correctas/preguntas))"
   ]
  },
  {
   "cell_type": "markdown",
   "id": "885c3626",
   "metadata": {},
   "source": [
    "### Expresiones booleanas\n",
    "\n",
    "<div align='justify'>Una expresión booleana es una expresión que es verdadera o falsa. Los siguientes ejemplos utilizan el operador ==, que compara dos operandos y produce Verdadero si son iguales y Falso en caso contrario:</div>"
   ]
  },
  {
   "cell_type": "code",
   "execution_count": 33,
   "id": "759dce81",
   "metadata": {},
   "outputs": [
    {
     "name": "stdout",
     "output_type": "stream",
     "text": [
      "True\n",
      "False\n"
     ]
    }
   ],
   "source": [
    "print(8 == 8)\n",
    "print(1 == 10)"
   ]
  },
  {
   "cell_type": "markdown",
   "id": "21d0d3c9",
   "metadata": {},
   "source": [
    "A continuación los demás operadores booleanos:\n",
    "\n",
    "\n",
    "| Operador | Nombre |\n",
    "| --- | --- |\n",
    "| x != y| ¿x es diferente de y? | \n",
    "| > | Mayor | \n",
    "| < | Menor |\n",
    "| >= | Mayor o igual |\n",
    "| <= | Menor o igual | \n",
    "| is | igual a |\n",
    "| is not | no igual a |\n",
    "\n",
    "<div class=\"alert alert-block alert-info\">\n",
    "⚠️ No confundir el operador booleano $==$ con el operador para asginar valores a variables $=$. Suele ser un error muy frecuente.\n",
    "</div>"
   ]
  },
  {
   "cell_type": "markdown",
   "id": "6c9fe729",
   "metadata": {},
   "source": [
    "### Operadores lógicos\n",
    "\n",
    "Existen tres operadores lógicos: and, or, y not. La semántica (significado) de estos operadores es similar a su significado en español. Por ejemplo,\n",
    "\n",
    "$$\n",
    "x > 0 ~and~ x < 10\n",
    "$$\n",
    "\n",
    "es verdadero sólo si x es mayor que 0 y menor que 10.\n",
    "\n",
    "Otro ejemplo:\n",
    "\n",
    "$$\n",
    "n\\%2 == 0~or~n\\%3 == 0\n",
    "$$\n",
    "\n",
    "Es verdadero si se cumple alguna de las dos condiciones, es decir, si el número es divisible por 2 o por 3.\n",
    "\n",
    "Por último, el operador **not** niega una expresión booleana, de modo que not (x > y) es verdadero si $x > y$ es falso."
   ]
  },
  {
   "cell_type": "code",
   "execution_count": 3,
   "id": "287e6264",
   "metadata": {},
   "outputs": [
    {
     "name": "stdout",
     "output_type": "stream",
     "text": [
      "True\n",
      "True\n",
      "True\n"
     ]
    }
   ],
   "source": [
    "x = 1\n",
    "y = 2\n",
    "\n",
    "print(x < y and x > 0)\n",
    "print(not (x > y))\n",
    "\n",
    "print(x > y or x > 0)"
   ]
  },
  {
   "cell_type": "markdown",
   "id": "f6b8841d",
   "metadata": {},
   "source": [
    "### Ejecución de condicionales\n",
    "\n",
    "<div align='justify'>Para escribir programas útiles, casi siempre necesitamos la capacidad de comprobar condiciones y cambiar el comportamiento del programa en consecuencia. Las sentencias condicionales nos dan esta capacidad. La forma más simple es la sentencia if: </div>"
   ]
  },
  {
   "cell_type": "code",
   "execution_count": 36,
   "id": "d6aed2bb",
   "metadata": {},
   "outputs": [
    {
     "name": "stdout",
     "output_type": "stream",
     "text": [
      "x es un número positivo\n"
     ]
    }
   ],
   "source": [
    "if x > 0 :\n",
    "    print('x es un número positivo')"
   ]
  },
  {
   "cell_type": "code",
   "execution_count": 37,
   "id": "b017caf1",
   "metadata": {},
   "outputs": [
    {
     "name": "stdout",
     "output_type": "stream",
     "text": [
      "1\n",
      "2\n"
     ]
    }
   ],
   "source": [
    "if y > x:\n",
    "    print(x)\n",
    "    print(y)"
   ]
  },
  {
   "cell_type": "markdown",
   "id": "4c10510a",
   "metadata": {},
   "source": [
    "<div class=\"alert alert-block alert-info\">\n",
    "⚠️ Siempre de haber una declaración después del condicional ¡O tendremos problemas!.\n",
    "</div>"
   ]
  },
  {
   "cell_type": "code",
   "execution_count": 38,
   "id": "97c4d1fd",
   "metadata": {},
   "outputs": [],
   "source": [
    "if x < 0 :\n",
    "    pass #Tengo que poner acá una declaración; pero no estoy seguro "
   ]
  },
  {
   "cell_type": "code",
   "execution_count": 5,
   "id": "fd57c6b2",
   "metadata": {},
   "outputs": [
    {
     "name": "stdout",
     "output_type": "stream",
     "text": [
      "Enhorabuena\n"
     ]
    }
   ],
   "source": [
    "x = 8\n",
    "if x > 10:\n",
    "    print('pequeño')\n",
    "print('Enhorabuena')"
   ]
  },
  {
   "cell_type": "markdown",
   "id": "36060259",
   "metadata": {},
   "source": [
    "### Ejecución alternativa\n",
    "<div align='justify'>Una segunda forma de la sentencia if es la ejecución alternativa, en la que hay dos posibilidades y la condición determina cuál se ejecuta. La sintaxis es la siguiente:</div>"
   ]
  },
  {
   "cell_type": "code",
   "execution_count": 44,
   "id": "acb23d68",
   "metadata": {},
   "outputs": [
    {
     "name": "stdout",
     "output_type": "stream",
     "text": [
      "x es par\n"
     ]
    }
   ],
   "source": [
    "x = 8\n",
    "if x % 2 == 0:\n",
    "    print('x es par')\n",
    "else:\n",
    "    print('x es impar')"
   ]
  },
  {
   "cell_type": "markdown",
   "id": "83072fd7",
   "metadata": {},
   "source": [
    "**Ejercicio:** Escriba un programa que pida al usuario las horas de trabajo con el fin de calcular su salario bruto. Debe utilizar input para leer una cadena y float() para convertir la cadena en un número. No se preocupe por la comprobación de errores de la entrada del usuario - asuma que el usuario teclea los números correctamente.\n",
    "\n",
    "1. $<=$ 40 pagar lo que corresponde a la hora de trabajo\n",
    "1. $>$ 40 pagar lo que corresponde hasta las 40 horas, y las horas adicionales tienen una bonificación del 1.5.\n",
    "\n",
    "Si trabajó 45 horas, la paga debe ser de 1425.\n"
   ]
  },
  {
   "cell_type": "code",
   "execution_count": 8,
   "id": "e3199691",
   "metadata": {},
   "outputs": [],
   "source": [
    "tarifa = 30 #30 mil pesos por hora de trabajo\n"
   ]
  },
  {
   "cell_type": "markdown",
   "id": "7cdbe601",
   "metadata": {},
   "source": [
    "### Condicionales en cadena\n",
    "<div align='justify'>A veces hay más de dos posibilidades y necesitamos más de dos ramas. Una forma de expresar un cálculo de este tipo es una condicional encadenada:</div>"
   ]
  },
  {
   "cell_type": "code",
   "execution_count": 45,
   "id": "a6eb794b",
   "metadata": {},
   "outputs": [
    {
     "name": "stdout",
     "output_type": "stream",
     "text": [
      "x es menor que y\n"
     ]
    }
   ],
   "source": [
    "x = 4\n",
    "y = 8\n",
    "if x < y:\n",
    "    print('x es menor que y')\n",
    "elif x > y:\n",
    "    print('x es mayor que y')\n",
    "else:\n",
    "    print('x y y son iguales')"
   ]
  },
  {
   "cell_type": "markdown",
   "id": "f979a280",
   "metadata": {},
   "source": [
    "**Ejercicio:** Escriba un programa que pida una puntuación entre 0.0 y 1.0. Si la puntuación está fuera de rango, imprima un mensaje de error. Si la puntuación está entre 0.0 y 1.0, imprima una calificación utilizando la siguiente tabla:\n",
    "\n",
    "| Puntaje | Calificación |\n",
    "| --- | --- |\n",
    "| >= 0.9 | A | \n",
    "| >= 0.8 | B | \n",
    "| >= 0.7 | C |\n",
    "| >= 0.6 | D |\n",
    "| < 0.6 | F | "
   ]
  },
  {
   "cell_type": "code",
   "execution_count": 57,
   "id": "ad5393d2",
   "metadata": {},
   "outputs": [
    {
     "name": "stdout",
     "output_type": "stream",
     "text": [
      "498.75\n"
     ]
    }
   ],
   "source": []
  },
  {
   "cell_type": "markdown",
   "id": "3e71a0be",
   "metadata": {},
   "source": [
    "### Condicionales anidados\n",
    "<div align='justify'>Un condicional también puede anidarse dentro de otro. Podríamos haber escrito el ejemplo de las tres ramas así:</div>"
   ]
  },
  {
   "cell_type": "code",
   "execution_count": 46,
   "id": "9245ba3e",
   "metadata": {},
   "outputs": [
    {
     "name": "stdout",
     "output_type": "stream",
     "text": [
      "x es menor que y\n"
     ]
    }
   ],
   "source": [
    "x = 4\n",
    "y = 8\n",
    "if x == y:\n",
    "    print('x y y son iguales')\n",
    "else:\n",
    "    if x < y:\n",
    "        print('x es menor que y')\n",
    "    else:\n",
    "        print('x es mayor que y')"
   ]
  },
  {
   "cell_type": "markdown",
   "id": "0af38d34",
   "metadata": {},
   "source": [
    "### Creando nuevas funciones\n",
    "\n",
    "<div align='justify'>Hasta ahora, sólo hemos estado utilizando las funciones que vienen con Python, pero también es posible añadir nuevas funciones. Una definición de función especifica tres cosas: su nombre, los parámetros que requiere y la secuencia de sentencias que se ejecutan cuando se llama a la función. Una vez que definimos una función, podemos reutilizarla una y otra vez a lo largo de nuestro programa.</div>\n"
   ]
  },
  {
   "cell_type": "code",
   "execution_count": 58,
   "id": "8dae0fea",
   "metadata": {},
   "outputs": [
    {
     "name": "stdout",
     "output_type": "stream",
     "text": [
      "Luke Skywalker has vanished. \n",
      "In his absence, the sinister\n",
      "FIRST ORDER has risen\n",
      "from the ashes of the Empire\n",
      "and will not rest until Skywalker, the last Jedi,\n",
      "has been destroyed.\n"
     ]
    }
   ],
   "source": [
    "def print_lyrics():\n",
    "    print(\"Luke Skywalker has vanished. \")\n",
    "    print('In his absence, the sinister')\n",
    "    print('FIRST ORDER has risen')\n",
    "    print('from the ashes of the Empire')\n",
    "    print('and will not rest until Skywalker, the last Jedi,')\n",
    "    print('has been destroyed.')\n",
    "    \n",
    "print_lyrics()"
   ]
  },
  {
   "cell_type": "code",
   "execution_count": 61,
   "id": "0445bb0c",
   "metadata": {},
   "outputs": [
    {
     "name": "stdout",
     "output_type": "stream",
     "text": [
      "Luke Skywalker has vanished. \n",
      "In his absence, the sinister\n",
      "FIRST ORDER has risen\n",
      "from the ashes of the Empire\n",
      "and will not rest until Skywalker, the last Jedi,\n",
      "has been destroyed.\n"
     ]
    }
   ],
   "source": [
    "def repeat_lyrics():\n",
    "    print_lyrics()\n",
    "repeat_lyrics()"
   ]
  },
  {
   "cell_type": "code",
   "execution_count": 63,
   "id": "b2ccbc3c",
   "metadata": {},
   "outputs": [
    {
     "name": "stdout",
     "output_type": "stream",
     "text": [
      "JuanSe\n",
      "JuanSe\n",
      "JuanSe\n",
      "JuanSe\n"
     ]
    }
   ],
   "source": [
    "def print_twice(word):\n",
    "    print(word)\n",
    "    print(word)\n",
    "\n",
    "name = \"JuanSe\"\n",
    "print_twice(name)\n",
    "print_twice(\"JuanSe\")"
   ]
  },
  {
   "cell_type": "markdown",
   "id": "dc426ced",
   "metadata": {},
   "source": [
    "**Ejercicio:** Escriba un programa para crear una función llamada mostrar_empleado() con las siguientes condiciones.\n",
    "\n",
    "1. Debe aceptar el nombre y el salario del empleado y mostrar ambos.\n",
    "1. Si falta el salario en la llamada a la función, asigne el valor por defecto 9000 al salario.\n",
    "\n",
    "Puede utilizar la estructura del siguiente código:"
   ]
  },
  {
   "cell_type": "code",
   "execution_count": 19,
   "id": "f90d26e0",
   "metadata": {
    "code_folding": []
   },
   "outputs": [
    {
     "ename": "SyntaxError",
     "evalue": "invalid syntax (2579898600.py, line 6)",
     "output_type": "error",
     "traceback": [
      "\u001b[1;36m  Input \u001b[1;32mIn [19]\u001b[1;36m\u001b[0m\n\u001b[1;33m    mostrar_empleado(  ,5000)\u001b[0m\n\u001b[1;37m                       ^\u001b[0m\n\u001b[1;31mSyntaxError\u001b[0m\u001b[1;31m:\u001b[0m invalid syntax\n"
     ]
    }
   ],
   "source": [
    "def mostrar_empleado( nombre, salario=):\n",
    "    print(f\"nombre: {}\\nsalario: {}\\n\")\n",
    "\n",
    "mostrar_empleado(\"Pepito\")\n"
   ]
  },
  {
   "cell_type": "markdown",
   "id": "76958acf",
   "metadata": {},
   "source": [
    "**Ejercicio:** Reescriba su cálculo de pago de salario bruto usando una función que se llame pagoSalario que tome dos parámetros (horas y tarifa). \n",
    "\n",
    "1. $<=$ 40 pagar lo que corresponde a la hora de trabajo\n",
    "1. $>$ 40 pagar lo que corresponde hasta las 40 horas, y las horas adicionales tienen una bonificación del 1.5.\n",
    "\n",
    "Si trabajó 45 horas, la paga debe ser de 1425."
   ]
  },
  {
   "cell_type": "code",
   "execution_count": null,
   "id": "e58eedb3",
   "metadata": {},
   "outputs": [],
   "source": []
  },
  {
   "cell_type": "markdown",
   "id": "c21a9b3f",
   "metadata": {},
   "source": [
    "**Ejercicio:** Reescribe el programa de calificación del capítulo anterior utilizando una función llamada calculoNotas que toma una puntuación como parámetro y devuelve una calificación como cadena.\n",
    "\n",
    "| Puntaje | Calificación |\n",
    "| --- | --- |\n",
    "| >= 0.9 | A | \n",
    "| >= 0.8 | B | \n",
    "| >= 0.7 | C |\n",
    "| >= 0.6 | D |\n",
    "| < 0.6 | F | "
   ]
  },
  {
   "cell_type": "code",
   "execution_count": null,
   "id": "06fea983",
   "metadata": {},
   "outputs": [],
   "source": []
  },
  {
   "cell_type": "markdown",
   "id": "53250920",
   "metadata": {},
   "source": [
    "**Ejercicio legendario:** Escribe un programa para crear una función recursiva que calcule la suma de números del 0 al 10.\n",
    "\n",
    "PD: Una función recursiva es una función que se llama a sí misma una y otra vez."
   ]
  },
  {
   "cell_type": "code",
   "execution_count": 82,
   "id": "37190af1",
   "metadata": {},
   "outputs": [
    {
     "name": "stdout",
     "output_type": "stream",
     "text": [
      "55\n"
     ]
    }
   ],
   "source": [
    "def suma(num):\n"
   ]
  },
  {
   "cell_type": "markdown",
   "id": "6d34449e",
   "metadata": {},
   "source": [
    "### Actualizando variables\n",
    "\n",
    "<div align='justify'>Un patrón común en las sentencias de asignación es una sentencia de asignación que actualiza una variable, donde el nuevo valor de la variable depende del anterior.</div>"
   ]
  },
  {
   "cell_type": "code",
   "execution_count": 83,
   "id": "e9fa7043",
   "metadata": {},
   "outputs": [
    {
     "name": "stdout",
     "output_type": "stream",
     "text": [
      "1\n"
     ]
    }
   ],
   "source": [
    "x = 0\n",
    "x = x + 1\n",
    "print(x)"
   ]
  },
  {
   "cell_type": "markdown",
   "id": "65f1ba2a",
   "metadata": {},
   "source": [
    "### Ciclo while\n",
    "<div align='justify'> Los computadores se utilizan a menudo para automatizar tareas repetitivas. Repetir tareas idénticas o similares sin cometer errores es algo que los computadores hacen bien y las personas hacen mal. Dado que la iteración es tan común, Python proporciona varias características del lenguaje para hacerla más fácil. A quí viene nuestro primer ejemplo con el ciclo While.</div>\n"
   ]
  },
  {
   "cell_type": "code",
   "execution_count": null,
   "id": "876c682b",
   "metadata": {},
   "outputs": [],
   "source": [
    "n = 5\n",
    "while n > 0:\n",
    "    print(n)\n",
    "    n = n - 1 #\n",
    "print('¡Kaboom!')"
   ]
  },
  {
   "cell_type": "markdown",
   "id": "80acc443",
   "metadata": {},
   "source": [
    "<div align='justify'>Casi se puede leer la sentencia while como si fuera texto escrito en español. Significa: \"Mientras n sea mayor que 0, muestra el valor de n y luego reduce el valor de n en 1. Cuando llegues a 0, sal de la sentencia while y muestra la palabra ¡Kaboom!\".</div>\n",
    "\n",
    "<div class=\"alert alert-block alert-info\">\n",
    "⚠️ No te olvides de actualizar el valor n ¡O tendremos problemas!.\n",
    "</div>"
   ]
  },
  {
   "cell_type": "markdown",
   "id": "8be02469",
   "metadata": {},
   "source": [
    "### Ciclos infinitos\n",
    "\n",
    "<div align='justify'>Una fuente inagotable de diversión para los programadores es la observación de que las instrucciones del champú, \"Enjabonar, aclarar, repetir\", son un bucle infinito porque no hay ninguna variable de iteración que indique cuántas veces hay que ejecutar el bucle.</div><br>\n",
    "\n",
    "<div align='justify'>En el caso de la cuenta regresiva, podemos demostrar que el bucle termina porque sabemos que el valor de n es finito, y podemos ver que el valor de n se hace más pequeño cada vez a través del bucle, por lo que finalmente tenemos que llegar a 0. Otras veces un bucle es obviamente infinito porque no tiene ninguna variable de iteración.</div><br>\n",
    "\n",
    "<div align='justify'>Este bucle es obviamente un bucle infinito porque la expresión lógica en la sentencia while es simplemente la constante lógica True. Mejor no la corramos.</div>"
   ]
  },
  {
   "cell_type": "code",
   "execution_count": null,
   "id": "51f18184",
   "metadata": {},
   "outputs": [],
   "source": [
    "n = 10\n",
    "while True:\n",
    "    print(n, end=' ')\n",
    "    n = n - 1\n",
    "print('Done!')"
   ]
  },
  {
   "cell_type": "markdown",
   "id": "94f8bfa0",
   "metadata": {},
   "source": [
    "<div align='justify'>Aunque este es un bucle infinito disfuncional, aún podemos utilizar este patrón para construir bucles útiles siempre y cuando añadamos cuidadosamente código al cuerpo del bucle para salir explícitamente del bucle utilizando break cuando hayamos alcanzado la condición de salida.</div>"
   ]
  },
  {
   "cell_type": "code",
   "execution_count": 84,
   "id": "373dfb37",
   "metadata": {
    "scrolled": true
   },
   "outputs": [
    {
     "name": "stdout",
     "output_type": "stream",
     "text": [
      "> 1\n",
      "1\n",
      "> j\n",
      "j\n",
      "> done\n",
      "Done!\n"
     ]
    }
   ],
   "source": [
    "while True:\n",
    "    linea = input('> ')\n",
    "    if linea == 'done':\n",
    "         \n",
    "    print(linea)\n",
    "print('Done!')"
   ]
  },
  {
   "cell_type": "markdown",
   "id": "e06358dd",
   "metadata": {},
   "source": [
    "**Ejercicio:** Escribe un programa que lea repetidamente enteros hasta que el usuario introduzca \"done\". Una vez introducido \"done\", imprime la suma total, el número de iteraciones y el promedio de los enteros que se ingresó. "
   ]
  },
  {
   "cell_type": "code",
   "execution_count": null,
   "id": "750298dc",
   "metadata": {},
   "outputs": [],
   "source": []
  },
  {
   "cell_type": "markdown",
   "id": "38f469b7",
   "metadata": {},
   "source": [
    "### Ciclo for\n",
    "\n",
    "<div align='justify'>A veces queremos hacer un bucle sobre un conjunto de cosas, como una lista de palabras, las líneas de un texto o una lista de números. Cuando tenemos una lista de cosas para recorrer en bucle, podemos construir un bucle definido utilizando una sentencia for. Llamamos a la sentencia while un bucle indefinido porque simplemente realiza un bucle hasta que alguna condición se convierte en False, mientras que el bucle for realiza un bucle a través de un conjunto conocido de elementos, por lo que se ejecuta a través de tantas iteraciones como elementos haya en el conjunto.</div><br>\n",
    "\n",
    "<div align='justify'>La sintaxis de un bucle for es similar a la del bucle while en que hay una sentencia for y un cuerpo de bucle:</div>"
   ]
  },
  {
   "cell_type": "code",
   "execution_count": 91,
   "id": "490df7ee",
   "metadata": {},
   "outputs": [
    {
     "name": "stdout",
     "output_type": "stream",
     "text": [
      "Feliz año nuevo: Juan\n",
      "Feliz año nuevo: Jose\n",
      "Feliz año nuevo: Hugo\n",
      "¡Listo!\n"
     ]
    }
   ],
   "source": [
    "amigos = ['Juan', 'Jose', 'Hugo']\n",
    "for amigo in amigos:\n",
    "    print('Feliz año nuevo:', amigo)\n",
    "print('¡Listo!')"
   ]
  },
  {
   "cell_type": "markdown",
   "id": "e2458d74",
   "metadata": {},
   "source": [
    "Por ejemplo, para contar el número de elementos de una lista, escribiríamos el siguiente bucle for:"
   ]
  },
  {
   "cell_type": "code",
   "execution_count": 93,
   "id": "df85fd8d",
   "metadata": {},
   "outputs": [
    {
     "name": "stdout",
     "output_type": "stream",
     "text": [
      "Cantidad:  6\n"
     ]
    }
   ],
   "source": [
    "count = 0\n",
    "for itervar in [3, 41, 12, 9, 74, 15]:\n",
    "    count = count + 1\n",
    "print('Cantidad: ', count)"
   ]
  },
  {
   "cell_type": "markdown",
   "id": "5c175326",
   "metadata": {},
   "source": [
    "**Ejercicio:** Encuentre el mayor valor de una lista. Puede usar la estructura del siguiente código"
   ]
  },
  {
   "cell_type": "code",
   "execution_count": 2,
   "id": "c78f74e6",
   "metadata": {},
   "outputs": [
    {
     "name": "stdout",
     "output_type": "stream",
     "text": [
      "antes: None\n",
      "ciclo: 3 3\n",
      "ciclo: 41 41\n",
      "ciclo: 12 41\n",
      "ciclo: 9 41\n",
      "ciclo: 74 74\n",
      "ciclo: 15 74\n",
      "Más grande: 74\n"
     ]
    }
   ],
   "source": [
    "mayor = None\n",
    "print('antes:', mayor)\n",
    "\n",
    "for num in [3, 41, 12, 9, 74, 15]:\n",
    "    if  mayor is None or mayor<num :\n",
    "        mayor = num\n",
    "    print('ciclo:',num,mayor)\n",
    "print('Más grande:',mayor )\n"
   ]
  },
  {
   "cell_type": "markdown",
   "id": "fc8ec10b",
   "metadata": {},
   "source": [
    "**Ejercicio:** Ahora construya un código que indique el menor número contenido en la siguiente lista:"
   ]
  },
  {
   "cell_type": "code",
   "execution_count": 3,
   "id": "7f3d3d4c",
   "metadata": {},
   "outputs": [
    {
     "name": "stdout",
     "output_type": "stream",
     "text": [
      "El número menor es: -9\n"
     ]
    }
   ],
   "source": [
    "lista = [1, 0, 75, -9, 74, 15]\n",
    "menor = None \n",
    "\n",
    "for num in lista:\n",
    "    if menor is None or menor > num:\n",
    "        menor = num\n",
    "        \n",
    "print(\"El número menor es:\", menor)"
   ]
  },
  {
   "cell_type": "markdown",
   "id": "840baff7",
   "metadata": {},
   "source": [
    "### Otra forma de crear secuencias: range\n",
    "\n",
    "<div align='justify'>La función range() devuelve una secuencia de números, empezando por 0 por defecto, e incrementa en 1 (por defecto), y se detiene antes de un número especificado. Por ejemplo:</div>"
   ]
  },
  {
   "cell_type": "code",
   "execution_count": 2,
   "id": "5214e1b7",
   "metadata": {},
   "outputs": [
    {
     "name": "stdout",
     "output_type": "stream",
     "text": [
      "range(0, 6)\n",
      "<class 'range'>\n"
     ]
    }
   ],
   "source": [
    "x = range(6)\n",
    "print(x)\n",
    "print(type(x))"
   ]
  },
  {
   "cell_type": "markdown",
   "id": "8bc4f9a0",
   "metadata": {},
   "source": [
    "Sintaxis: (start, stop, step)\n",
    "\n",
    "| Parámetro | Descripción |\n",
    "| --- | --- |\n",
    "| start |Es opcional; es un número entero que especifica en qué posición comenzar. Por defecto es 0 | \n",
    "| stop |Es obligatorio; es Un número entero que especifica en qué posición parar (no incluido). | \n",
    "| step |Es opcional; es un número entero que especifica el incremento. Por defecto es 1 |\n"
   ]
  },
  {
   "cell_type": "code",
   "execution_count": 8,
   "id": "c54c9334",
   "metadata": {},
   "outputs": [
    {
     "name": "stdout",
     "output_type": "stream",
     "text": [
      "0\n",
      "2\n",
      "4\n",
      "6\n",
      "8\n",
      "10\n"
     ]
    }
   ],
   "source": [
    "x = range(0, 12, 2)\n",
    "for n in x:\n",
    "  print(n)"
   ]
  },
  {
   "cell_type": "code",
   "execution_count": 4,
   "id": "5a3c66e7",
   "metadata": {},
   "outputs": [
    {
     "name": "stdout",
     "output_type": "stream",
     "text": [
      "2\n",
      "4\n",
      "6\n",
      "8\n",
      "10\n",
      "12\n",
      "14\n",
      "16\n",
      "18\n"
     ]
    }
   ],
   "source": [
    "x = range(2, 20, 2)\n",
    "for n in x: \n",
    "  print(n)"
   ]
  },
  {
   "cell_type": "markdown",
   "id": "3c825d37",
   "metadata": {},
   "source": [
    "**Ejercicio:** Escribe un programa para imprimir la tabla de multiplicar de un número dado, hasta la multiplicación por 10."
   ]
  },
  {
   "cell_type": "code",
   "execution_count": 6,
   "id": "ea5e2841",
   "metadata": {},
   "outputs": [
    {
     "name": "stdout",
     "output_type": "stream",
     "text": [
      "Ingrese un número: 4\n",
      "0.0\n",
      "4.0\n",
      "8.0\n",
      "12.0\n",
      "16.0\n",
      "20.0\n",
      "24.0\n",
      "28.0\n",
      "32.0\n",
      "36.0\n",
      "40.0\n"
     ]
    }
   ],
   "source": [
    "x = float(input(\"Ingrese un número: \"))\n",
    "for num in range(11):\n",
    "    print(num*x)"
   ]
  },
  {
   "cell_type": "markdown",
   "id": "e57f8220",
   "metadata": {},
   "source": [
    "**Ejercicio:** Escribe un programa que acepte un número de un usuario y calcule la suma de todos los números desde 1 hasta el número dado.\n",
    "\n",
    "Por ejemplo, si el usuario introduce 10 la salida debería ser 55 (1+2+3+4+5+6+7+8+9+10)"
   ]
  },
  {
   "cell_type": "code",
   "execution_count": null,
   "id": "311af6cc",
   "metadata": {},
   "outputs": [],
   "source": [
    "#Pedir información del usuario\n",
    "x = int(input(\"Ingrese un número: \"))\n",
    "suma = 0\n",
    "for i in range(int(x+1)):\n",
    "    suma = i + suma\n",
    "    \n",
    "print(\"La suma es: \", suma)\n"
   ]
  },
  {
   "cell_type": "markdown",
   "id": "debb85d4",
   "metadata": {},
   "source": [
    "**Ejercicio legendario:** Escribe un programa para imprimir el siguiente patrón numérico utilizando varios bucles:\n",
    "\n",
    "1</br>\n",
    "12</br>\n",
    "123</br>\n",
    "1234</br>\n",
    "12345</br>\n"
   ]
  },
  {
   "cell_type": "code",
   "execution_count": 4,
   "id": "d9833ec4",
   "metadata": {},
   "outputs": [
    {
     "name": "stdout",
     "output_type": "stream",
     "text": [
      "Triangulo rectángulo\n",
      "1\n",
      "12\n",
      "123\n",
      "1234\n",
      "12345\n"
     ]
    }
   ],
   "source": [
    "print(\"Triangulo rectángulo\")\n",
    "\n",
    "numero = 5\n"
   ]
  },
  {
   "cell_type": "markdown",
   "id": "26ca32d6",
   "metadata": {},
   "source": [
    "### Referencias\n",
    "1. https://www.py4e.com/\n",
    "1. https://pynative.com/python-if-else-and-for-loop-exercise-with-solutions/#h-exercise-1-print-first-10-natural-numbers-using-while-loop"
   ]
  }
 ],
 "metadata": {
  "kernelspec": {
   "display_name": "Python 3 (ipykernel)",
   "language": "python",
   "name": "python3"
  },
  "language_info": {
   "codemirror_mode": {
    "name": "ipython",
    "version": 3
   },
   "file_extension": ".py",
   "mimetype": "text/x-python",
   "name": "python",
   "nbconvert_exporter": "python",
   "pygments_lexer": "ipython3",
   "version": "3.10.11"
  }
 },
 "nbformat": 4,
 "nbformat_minor": 5
}
