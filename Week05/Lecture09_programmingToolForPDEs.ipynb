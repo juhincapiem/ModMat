{
 "cells": [
  {
   "cell_type": "markdown",
   "id": "30937ce4",
   "metadata": {},
   "source": [
    "# Herramientas computacionales para solucionar PDEs\n",
    "\n",
    "### Juan S. Hincapié - Carlos Duque-Daza"
   ]
  },
  {
   "cell_type": "markdown",
   "id": "22887f2a",
   "metadata": {},
   "source": [
    "## Bienvenidos a la segunda parte del curso\n",
    "\n",
    "<div align='justify'>Hasta este momento del curso \"sólo\" hemos estudiado las ecuaciones diferenciales ordinarias... y digo \"sólo\" porque en realidad, detrás de esta primera parte hemos recorrido mucho camino: reforzamos los conceptos de adimensionalización, al igual que los principios de conservación de masa y de momento, también desarrollamos modelos para tanques interconectados, vaciado de tanques y sistemas mecánicos, y no olvidemos los conceptos de estabilidad. Pues bien, ya es hora de dar un paso más, ¿Cómo? Pues estudiando las ecuaciones diferenciales parciales (EDPs), sólo así podremos completar nuestra formación como modeladores matemáticos juniors. </div>\n",
    "<br>\n",
    "\n",
    "<div align='justify'>Para empezar con el pie derecho en esta segunda parte, debemos pasar primero por una capacitación. Así es: debemos aprender una serie de herramientas y técnicas de programación para no salir tan mal heridos de esta parte del curso. El contenido es el siguiente:</div>\n",
    "\n",
    "1. Refuerzo vectores\n",
    "1. Refuerzo matrices\n",
    "1. ¿Cómo llenar una matriz que presenta un patrón?\n",
    "1. Resolver sistema de ecuaciones lineales"
   ]
  },
  {
   "cell_type": "markdown",
   "id": "22ac329d",
   "metadata": {},
   "source": [
    "$\\color{RoyalBlue}{\\LARGE{\\textbf{Refuerzo de vectores}}}$\n",
    "\n",
    "<div align='justify'>Los vectores, matrices y la operación entre ellos es esencial para la solución de modelos matemáticos ¿Qué nos ofrece Python para este aspecto? Pues bien tenemos la librería Numpy, una biblioteca que da soporte para crear vectores y matrices grandes multidimensionales, junto con una gran colección de funciones matemáticas de alto nivel para operar con ellas. Lo primero que debemos hacer es importarla. Echemosle un vistazo: </div>"
   ]
  },
  {
   "cell_type": "code",
   "execution_count": 2,
   "id": "7b1151a0",
   "metadata": {},
   "outputs": [],
   "source": [
    "import numpy as np"
   ]
  },
  {
   "cell_type": "markdown",
   "id": "35e583a2",
   "metadata": {},
   "source": [
    "Podemos crear vectores y operar con ellos:"
   ]
  },
  {
   "cell_type": "code",
   "execution_count": 4,
   "id": "20193a03",
   "metadata": {},
   "outputs": [
    {
     "name": "stdout",
     "output_type": "stream",
     "text": [
      "[7 7 7 7 7]\n"
     ]
    }
   ],
   "source": [
    "# Crear el vector de forma \"tradicional\"\n",
    "vector1 = np.array([1, 2, 3, 4, 5])\n",
    "\n",
    "# ¿Será posible crear un vector con range?\n",
    "vector2 = np.array(range(6,1,-1))\n",
    "\n",
    "# Sume los dos vectores\n",
    "print(vector1 + vector2)"
   ]
  },
  {
   "cell_type": "markdown",
   "id": "ea4248aa",
   "metadata": {},
   "source": [
    "$\\color{RoyalBlue}{\\large{\\textbf{Operaciones: producto punto y producto elemento por elemento}}}$\n",
    "\n",
    "<div align='justify'>Cree dos vectores, $v_1$ y $v_2$ de $1\\times 5$. Con estos dos vectores plantee las siguientes operaciones e imprima sus resultados: </div>\n",
    "\n",
    "1. Haga la multiplicación elemento por elemento e imprima el resultado.\n",
    "1. Haga el producto punto"
   ]
  },
  {
   "cell_type": "code",
   "execution_count": 3,
   "id": "70e43ea3",
   "metadata": {},
   "outputs": [
    {
     "name": "stdout",
     "output_type": "stream",
     "text": [
      "[ 6 14 24 36 50]\n",
      "130\n"
     ]
    }
   ],
   "source": [
    "\n",
    "\n",
    "#Multiplicación elemento por elemento\n",
    "    \n",
    "#Producto punto, o interno"
   ]
  },
  {
   "cell_type": "markdown",
   "id": "dab374c8",
   "metadata": {},
   "source": [
    "$\\color{RoyalBlue}{\\large{\\textbf{Ejercicio 01}}}$\n",
    "\n",
    "<div align='justify'>Un fabricante de joyería de diseño tiene órdenes por dos anillos, tres pares de aretes, cinco prendedores y un collar. El fabricante estima que le llevará 1 hora de mano de obra hacer un anillo, 1 1/2 horas hacer un par de aretes, 21 hora para un prendedor y 2 horas para un collar.</div>\n",
    "\n",
    "\n",
    "1. Exprese las órdenes del fabricante como un vector fila.\n",
    "1. Exprese los requerimientos en horas para los distintos tipos de joyas como un vector fila.\n",
    "1. Utilice el producto punto para calcular el número total de horas que requerirá paraterminar las órdenes.\n",
    "1. Utilize el producto elemento por elemento para calcular el tiempo que tarda en fabricar cada uno de los productos, es decir, cuánto tarda en producir los dos anillos, cuánto demora en los tres pares de aretes... etc."
   ]
  },
  {
   "cell_type": "code",
   "execution_count": 27,
   "id": "b5132c82",
   "metadata": {},
   "outputs": [
    {
     "name": "stdout",
     "output_type": "stream",
     "text": [
      "El fabrica tarda 113.50 horas para tener listo todo el pedido\n",
      "Anillos 2.00 horas\n",
      "Aretes 4.50 horas\n",
      "Prendedores 105.00 horas\n",
      "Collar 2.00 horas \n"
     ]
    }
   ],
   "source": [
    "\n"
   ]
  },
  {
   "cell_type": "markdown",
   "id": "44c94cde",
   "metadata": {},
   "source": [
    "$\\color{RoyalBlue}{\\large{\\textbf{Ejercicio 02}}}$\n",
    "\n",
    "<div align='justify'>Un turista regresó de un viaje por América del Sur con divisa extranjera de las siguientes denominaciones: 1000 pesos argentinos, 20 reales de Brasil, 100 pesos colombianos, 5000 pesos chilenos y 50 colones de Costa Rica. En dólares, un peso argentino valía $\\$$0.3174, los reales brasileños $\\$$0.4962, los pesos colombianos $\\$$0.000471, los pesos chilenos $\\$$0.00191 y los colones $\\$$0.001928.</div>\n",
    "\n",
    "\n",
    "\n",
    "1. Exprese la cantidad de cada tipo de moneda por medio de un vector fila\n",
    "1. Exprese el valor de cada tipo de moneda en dólares por medio de un vector fila.\n",
    "1. Utilice el producto escalar para calcular cuántos dólares valía el dinero extranjero del\n",
    "turista"
   ]
  },
  {
   "cell_type": "code",
   "execution_count": 32,
   "id": "73341d41",
   "metadata": {},
   "outputs": [
    {
     "name": "stdout",
     "output_type": "stream",
     "text": [
      "337.01750000000004\n"
     ]
    }
   ],
   "source": []
  },
  {
   "cell_type": "markdown",
   "id": "e8bc1ef1",
   "metadata": {},
   "source": [
    "$\\color{RoyalBlue}{\\large{\\textbf{Llamar elementos de un vector}}}$\n",
    "\n",
    "<div align='justify'> Cree un vector que tenga los números enteros desde el 1 hasta el 5.</div>\n"
   ]
  },
  {
   "cell_type": "code",
   "execution_count": 31,
   "id": "8d327d7c",
   "metadata": {},
   "outputs": [
    {
     "name": "stdout",
     "output_type": "stream",
     "text": [
      "[1 2 3 4 5]\n"
     ]
    }
   ],
   "source": [
    "\n",
    "print(vector1)"
   ]
  },
  {
   "cell_type": "markdown",
   "id": "b07d892e",
   "metadata": {},
   "source": [
    "<div align='justify'>¿Cómo haría para llamar al primer elemento del vector?</div>\n"
   ]
  },
  {
   "cell_type": "code",
   "execution_count": 29,
   "id": "e8d8e70f",
   "metadata": {},
   "outputs": [
    {
     "name": "stdout",
     "output_type": "stream",
     "text": [
      "1\n"
     ]
    }
   ],
   "source": []
  },
  {
   "cell_type": "markdown",
   "id": "9ca892d8",
   "metadata": {},
   "source": [
    "<div align='justify'>¿Y cómo llamaría al último elemento del vector?</div>\n"
   ]
  },
  {
   "cell_type": "code",
   "execution_count": 30,
   "id": "a82327b8",
   "metadata": {},
   "outputs": [
    {
     "name": "stdout",
     "output_type": "stream",
     "text": [
      "5\n"
     ]
    }
   ],
   "source": []
  },
  {
   "cell_type": "markdown",
   "id": "fd578467",
   "metadata": {},
   "source": [
    "También podemos conocer el número de elementos que contiene un vector usando la siguiente función:"
   ]
  },
  {
   "cell_type": "code",
   "execution_count": 4,
   "id": "1d83aa1b",
   "metadata": {},
   "outputs": [
    {
     "name": "stdout",
     "output_type": "stream",
     "text": [
      "5\n"
     ]
    }
   ],
   "source": []
  },
  {
   "cell_type": "markdown",
   "id": "f3240467",
   "metadata": {},
   "source": [
    "$\\color{RoyalBlue}{\\large{\\textbf{Ejercicio 03}}}$\n",
    "<div align='justify'> Escriba un código en el que se solicita 5 número a un usuario y se deben almacenar en un vector. Al final se debe imprimir el vector.</div>\n",
    "\n"
   ]
  },
  {
   "cell_type": "code",
   "execution_count": 34,
   "id": "985fea96",
   "metadata": {},
   "outputs": [
    {
     "name": "stdout",
     "output_type": "stream",
     "text": [
      "Ingrese un número: 1\n",
      "Ingrese un número: 2\n",
      "Ingrese un número: 4\n",
      "Ingrese un número: 5\n",
      "Ingrese un número: 6\n",
      "[1. 2. 4. 5. 6.]\n"
     ]
    }
   ],
   "source": [
    "#Esta función nos permite reservar memoria para el vector, creando un vector de ceros:\n"
   ]
  },
  {
   "cell_type": "markdown",
   "id": "bc899af0",
   "metadata": {},
   "source": [
    "$\\color{RoyalBlue}{\\large{\\textbf{Ejercicio 04}}}$\n",
    "\n",
    "<div align='justify'> Escribe un programa que muestre sólo aquellos números de una lista que cumplan las siguientes condiciones:</div>\n",
    "\n",
    "1. El número debe ser divisible por cinco\n",
    "1. El número debe ser mayor a 50.\n",
    "1. El número debe ser menor a 500"
   ]
  },
  {
   "cell_type": "code",
   "execution_count": 33,
   "id": "13f6556e",
   "metadata": {},
   "outputs": [
    {
     "name": "stdout",
     "output_type": "stream",
     "text": [
      "75\n",
      "150\n",
      "180\n",
      "145\n"
     ]
    }
   ],
   "source": [
    "numeros = np.array([12, 75, 150, 180, 145, 525, 50])\n",
    "\n",
    "#Debemos iterar sobre los número de la lista. \n",
    "#Propongo una manera:\n"
   ]
  },
  {
   "cell_type": "markdown",
   "id": "2121f9e3",
   "metadata": {},
   "source": [
    "$\\color{RoyalBlue}{\\LARGE{\\textbf{Refuerzo matrices}}}$\n",
    "\n",
    "\n",
    "<div align='justify'> Miremos como se puede crear una matriz:</div>"
   ]
  },
  {
   "cell_type": "code",
   "execution_count": 4,
   "id": "dc49647c",
   "metadata": {},
   "outputs": [
    {
     "name": "stdout",
     "output_type": "stream",
     "text": [
      "[[ 3  4 -1]\n",
      " [ 2  0  1]\n",
      " [ 1  3 -2]]\n"
     ]
    }
   ],
   "source": [
    "M = np.array([[3,4,-1],[2,0,1],[1,3,-2]])\n",
    "print(M)"
   ]
  },
  {
   "cell_type": "markdown",
   "id": "2b30f099",
   "metadata": {},
   "source": [
    "$\\color{RoyalBlue}{\\large{\\textbf{Operaciones con matrices}}}$\n",
    "<div align='justify'> Podemos sacar la inversa de la matriz:</div>"
   ]
  },
  {
   "cell_type": "code",
   "execution_count": 5,
   "id": "bea60f44",
   "metadata": {},
   "outputs": [
    {
     "name": "stdout",
     "output_type": "stream",
     "text": [
      "[[-0.6  1.   0.8]\n",
      " [ 1.  -1.  -1. ]\n",
      " [ 1.2 -1.  -1.6]]\n",
      "[[ 1.00000000e+00 -3.33066907e-16 -2.22044605e-16]\n",
      " [ 2.22044605e-16  1.00000000e+00 -4.44089210e-16]\n",
      " [ 0.00000000e+00 -2.22044605e-16  1.00000000e+00]]\n",
      "[[ 1.00000000e+00 -3.33066907e-16 -2.22044605e-16]\n",
      " [ 2.22044605e-16  1.00000000e+00 -4.44089210e-16]\n",
      " [ 0.00000000e+00 -2.22044605e-16  1.00000000e+00]]\n"
     ]
    }
   ],
   "source": [
    "M_inv = np.linalg.inv(M)\n",
    "print(M_inv)\n",
    "\n",
    "# ¿Cómo verificamos que es la inversa?\n"
   ]
  },
  {
   "cell_type": "code",
   "execution_count": 19,
   "id": "7923ab00",
   "metadata": {},
   "outputs": [
    {
     "name": "stdout",
     "output_type": "stream",
     "text": [
      "[[ 3  2  1]\n",
      " [ 4  0  3]\n",
      " [-1  1 -2]]\n"
     ]
    }
   ],
   "source": [
    "M_tr = np.transpose(M)\n",
    "print(M_tr)\n",
    "# ¿Cómo verificamos que es la transpuesta?"
   ]
  },
  {
   "cell_type": "code",
   "execution_count": 20,
   "id": "7aa99dfe",
   "metadata": {},
   "outputs": [
    {
     "name": "stdout",
     "output_type": "stream",
     "text": [
      "5.000000000000003\n"
     ]
    }
   ],
   "source": [
    "#¿Será que el determinante es diferente de cero? ¿Cómo saberlo?\n",
    "M_det = np.linalg.det(M)\n",
    "print(M_det)"
   ]
  },
  {
   "cell_type": "markdown",
   "id": "c573b4b4",
   "metadata": {},
   "source": [
    "$\\color{RoyalBlue}{\\large{\\textbf{Ejercicio 05}}}$\n",
    "\n",
    "<div align='justify'>Una fábrica de muebles de calidad tiene dos divisiones: un taller de máquinas herramienta donde se fabrican las partes de los muebles, y una división de ensamble y terminado en la que se unen las partes para obtener el producto final. Suponga que se tienen $12$ empleados en el taller y $20$ en la división y que cada empleado trabaja $8$ horas. Suponga también que se producen únicamente dos artículos: sillas y mesas. Una silla requiere $384/17$ horas de maquinado y $480/17$ horas de ensamble y terminado. Una mesa requiere $240/17$ horas de maquinado y $640/17$ horas de ensamble y terminado. Suponiendo que se tiene una demanda ilimitada de estos productos y que el fabricante desea mantener ocupados a todos sus empleados, ¿cuántas sillas y cuántas mesas puede producir esta fábrica al día? </div>\n",
    "\n",
    "$x$: Número de sillas $y$: Número de mesas\n",
    "\n",
    "\\begin{align*}\n",
    "    & \\frac{384}{17}x + \\frac{240}{17}y = 8 \\times 12 \\\\\n",
    "    & \\frac{480}{17}x + \\frac{640}{17}y = 8 \\times 20\n",
    "\\end{align*}\n",
    "\n",
    "Con las funciones que hemos visto hasta ahora, ¿Cómo podríamos resolver este problema?"
   ]
  },
  {
   "cell_type": "code",
   "execution_count": 8,
   "id": "b6b62b9f",
   "metadata": {},
   "outputs": [
    {
     "name": "stdout",
     "output_type": "stream",
     "text": [
      "[[22.58823529 14.11764706]\n",
      " [28.23529412 37.64705882]]\n",
      "[[ 96]\n",
      " [160]]\n"
     ]
    }
   ],
   "source": []
  },
  {
   "cell_type": "code",
   "execution_count": 9,
   "id": "7d9315d2",
   "metadata": {},
   "outputs": [
    {
     "name": "stdout",
     "output_type": "stream",
     "text": [
      "[[3.]\n",
      " [2.]]\n"
     ]
    }
   ],
   "source": []
  },
  {
   "cell_type": "markdown",
   "id": "95b18143",
   "metadata": {},
   "source": [
    "$\\color{RoyalBlue}{\\large{\\textbf{Ejercicio 06}}}$\n",
    "\n",
    "<div align='justify'>La alacena de ingredientes mágicos de una hechicera contiene $10$ onzas de tréboles de\n",
    "cuatro hojas molidos y $14$ onzas de raíz de mandrágora en polvo. La alacena se resurte en forma automática siempre y cuando ella termine con todo lo que tiene. Una poción para entender Python requiere $3 \\frac{1}{13}$ onzas de tréboles y $2~\\frac{2}{13}$ onzas de mandrágora. Una receta de un conocido tratamiento para poder plantear modelos matemáticos como Alfio Quarteroni   requiere $5~\\frac{5}{13}$ onzas de tréboles y $10~\\frac{10}{13}$ onzas de mandrágora. ¿Qué cantidad de la poción para entender Python y del remedio para modelar matemáticamente se debe combinar para usar toda la reserva en su alacena?</div>\n",
    "\n",
    "$x$: poción para enteder Python $y$: poción para plantear modelos matemáticos\n",
    "\n",
    "\\begin{align*}\n",
    "    & \\frac{40}{13}x + \\frac{70}{13}y = 10 \\\\\n",
    "    & \\frac{28}{13}x + \\frac{140}{13}y = 14\n",
    "\\end{align*}\n"
   ]
  },
  {
   "cell_type": "code",
   "execution_count": 12,
   "id": "d1fa1aeb",
   "metadata": {},
   "outputs": [
    {
     "name": "stdout",
     "output_type": "stream",
     "text": [
      "[[ 3.07692308  5.38461538]\n",
      " [ 2.15384615 10.76923077]]\n",
      "[[10]\n",
      " [14]]\n",
      "[[1.5]\n",
      " [1. ]]\n"
     ]
    }
   ],
   "source": []
  },
  {
   "cell_type": "markdown",
   "id": "e43e37fa",
   "metadata": {},
   "source": [
    "¿ Cómo verifica que el resultado es el correcto?"
   ]
  },
  {
   "cell_type": "code",
   "execution_count": 27,
   "id": "65f5f697",
   "metadata": {},
   "outputs": [
    {
     "name": "stdout",
     "output_type": "stream",
     "text": [
      "[[10.]\n",
      " [14.]]\n"
     ]
    }
   ],
   "source": []
  },
  {
   "cell_type": "markdown",
   "id": "d6ac2fa9",
   "metadata": {},
   "source": [
    "$\\color{RoyalBlue}{\\LARGE{\\textbf{¿Cómo llenar una matriz que presenta un patrón?}}}$\n",
    "\n",
    "$\\color{RoyalBlue}{\\large{\\textbf{Índices de una matriz}}}$\n",
    "\n",
    "\n",
    "<div align='justify'>Los elementos de una matriz, al igual que con los vectores, tienen unos índices que los indentifican ¿Cuál es la lógica de los índices?</div>\n"
   ]
  },
  {
   "cell_type": "code",
   "execution_count": 14,
   "id": "01bf4352",
   "metadata": {},
   "outputs": [
    {
     "name": "stdout",
     "output_type": "stream",
     "text": [
      "[[1 2 3]\n",
      " [4 5 6]\n",
      " [7 8 9]]\n"
     ]
    }
   ],
   "source": [
    "F = np.array([[1,2,3],[4,5,6],[7,8,9]])\n",
    "print(F)"
   ]
  },
  {
   "cell_type": "code",
   "execution_count": 60,
   "id": "8b86609b",
   "metadata": {},
   "outputs": [
    {
     "name": "stdout",
     "output_type": "stream",
     "text": [
      "1\n"
     ]
    }
   ],
   "source": [
    "print(F[0,0])"
   ]
  },
  {
   "cell_type": "code",
   "execution_count": 63,
   "id": "034e9926",
   "metadata": {},
   "outputs": [
    {
     "name": "stdout",
     "output_type": "stream",
     "text": [
      "9\n"
     ]
    }
   ],
   "source": [
    "print(F[2,2]) #¿Por qué no es F[3,3]?"
   ]
  },
  {
   "cell_type": "markdown",
   "id": "242cf2c6",
   "metadata": {},
   "source": [
    "¿De qué otra manera se podría imprimir el último elemento de la matriz?"
   ]
  },
  {
   "cell_type": "code",
   "execution_count": 15,
   "id": "6e669ae4",
   "metadata": {},
   "outputs": [
    {
     "name": "stdout",
     "output_type": "stream",
     "text": [
      "9\n"
     ]
    }
   ],
   "source": []
  },
  {
   "cell_type": "markdown",
   "id": "0bef1b8f",
   "metadata": {},
   "source": [
    "¿Qué haría para imprimir toda la segunda fila de la matriz F?"
   ]
  },
  {
   "cell_type": "code",
   "execution_count": 64,
   "id": "7d08635b",
   "metadata": {},
   "outputs": [
    {
     "name": "stdout",
     "output_type": "stream",
     "text": [
      "[4 5 6]\n"
     ]
    }
   ],
   "source": []
  },
  {
   "cell_type": "markdown",
   "id": "692824c9",
   "metadata": {},
   "source": [
    "¿Qué haría para imprimir únicamente la segunda columna?"
   ]
  },
  {
   "cell_type": "code",
   "execution_count": 30,
   "id": "f72d4cb8",
   "metadata": {},
   "outputs": [
    {
     "name": "stdout",
     "output_type": "stream",
     "text": [
      "[2 5 8]\n"
     ]
    }
   ],
   "source": []
  },
  {
   "cell_type": "markdown",
   "id": "aa68e8b0",
   "metadata": {},
   "source": [
    "¿Será lo mismo emplear $F[1,:-1]$ que $F[1,:]$?"
   ]
  },
  {
   "cell_type": "code",
   "execution_count": null,
   "id": "e2675bd2",
   "metadata": {},
   "outputs": [],
   "source": []
  },
  {
   "cell_type": "markdown",
   "id": "d2ced7bf",
   "metadata": {},
   "source": [
    "$\\color{RoyalBlue}{\\large{\\textbf{Ciclo for para recorrer la matriz}}}$\n",
    "\n",
    "<div align='justify'>Saber cómo ingresar en las \"entrañas\" es muy importante para poder implementar métodos númericos en código. Por ejemplo, para ingresar condiciones de frontera de una EDP. Por ahora, nos esforzaremos por \"agarrar\" la lógica de los recorridos usando ciclos For.</div>"
   ]
  },
  {
   "cell_type": "code",
   "execution_count": 90,
   "id": "399d9261",
   "metadata": {},
   "outputs": [
    {
     "name": "stdout",
     "output_type": "stream",
     "text": [
      "[[ 1.5  3.   4.5]\n",
      " [ 6.   7.5  9. ]\n",
      " [10.5 12.  13.5]]\n"
     ]
    }
   ],
   "source": [
    "H = np.array([[1,2,3],[4,5,6],[7,8,9]])*1.5\n",
    "print(H)"
   ]
  },
  {
   "cell_type": "markdown",
   "id": "dc095f84",
   "metadata": {},
   "source": [
    "Tenemos muchas opciones para recorrer una matriz; pero acá les voy a presentar únicamente una. Si entendemos esta primera lógica, entender las demás será \"papita pal loro.\""
   ]
  },
  {
   "cell_type": "code",
   "execution_count": 93,
   "id": "8d601395",
   "metadata": {},
   "outputs": [
    {
     "name": "stdout",
     "output_type": "stream",
     "text": [
      "1.5 3.0 4.5 \n",
      "6.0 7.5 9.0 \n",
      "10.5 12.0 13.5 \n"
     ]
    }
   ],
   "source": [
    "#Podemos obtener primero las dimensiones de una matriz con la siguiente función\n",
    "row, col = H.shape\n",
    "#Construimos un primer ciclo for que irá fila por fila\n",
    "for r in range(0,row,1):\n",
    "    #Pero antes de pasar a la siguiente fila, tendrá que pasar por todas las columnas\n",
    "    for c in range(0,col,1):\n",
    "        #¿Cómo saber si estamos recorriendo la matriz como pensábamos? ¡Print!\n",
    "        print(H[r, c], end = \" \")\n",
    "    print(\"\")"
   ]
  },
  {
   "cell_type": "markdown",
   "id": "e88cc973",
   "metadata": {},
   "source": [
    "$\\color{RoyalBlue}{\\large{\\textbf{Identificar patrón}}}$\n",
    "\n",
    "<div align='justify'> Los sistemas de ecuaciones que surgen en las soluciones numéricas de las EDPs unidimensionales presentan matrices con patrones que se identifican a simple vista. Es importantísimo llenar la matriz siguiendo dicho patrón con el fin de resolver dicho sistema computacionalmente. </div>\n",
    "\n",
    "\n",
    "$\\color{RoyalBlue}{\\large{\\textbf{Ejercicio 07:}}}$\n",
    "\n",
    "Obtener el siguiente llenado de matriz usando ciclos for:\n",
    "\n",
    "$$\n",
    "    B={\\left(\\begin{array}{l l l}\n",
    "    {1}&{0}&{0}\\\\ \n",
    "    {0}&{1}&{0}\\\\ \n",
    "    {0}&{0}&{1}\n",
    "    \\end{array}\\right)}\n",
    "$$\n"
   ]
  },
  {
   "cell_type": "code",
   "execution_count": 32,
   "id": "ade52332",
   "metadata": {},
   "outputs": [
    {
     "name": "stdout",
     "output_type": "stream",
     "text": [
      "[[0 0 0]\n",
      " [0 0 0]\n",
      " [0 0 0]]\n"
     ]
    }
   ],
   "source": [
    "B = np.zeros((3,3), dtype = int)\n",
    "print(B)"
   ]
  },
  {
   "cell_type": "code",
   "execution_count": 33,
   "id": "f0a2198d",
   "metadata": {},
   "outputs": [
    {
     "name": "stdout",
     "output_type": "stream",
     "text": [
      "[[1 0 0]\n",
      " [0 1 0]\n",
      " [0 0 1]]\n"
     ]
    }
   ],
   "source": [
    "row, col = B.shape\n",
    "for r in range(row):\n",
    "    for c in range(col):\n",
    "        if  r == c :\n",
    "            B[r, c] = 1\n",
    "print(B)"
   ]
  },
  {
   "cell_type": "markdown",
   "id": "74837ef5",
   "metadata": {},
   "source": [
    "$\\color{RoyalBlue}{\\large{\\textbf{Ejercicio 08: semi - legendario}}}$\n",
    "\n",
    "Obtener el siguiente llenado de matriz usando ciclos for:\n",
    "\n",
    "$$\n",
    "    B={\\left(\\begin{array}{l l l l l}\n",
    "    {0}&{1}&{0}&{0}&{0}\\\\ \n",
    "    {1}&{0}&{1}&{0}&{0}\\\\ \n",
    "    {0}&{1}&{0}&{1}&{0}\\\\\n",
    "    {0}&{0}&{1}&{0}&{1}\\\\\n",
    "    {0}&{0}&{0}&{1}&{0}\n",
    "    \\end{array}\\right)}\n",
    "$$"
   ]
  },
  {
   "cell_type": "code",
   "execution_count": 3,
   "id": "0a16cad4",
   "metadata": {},
   "outputs": [
    {
     "name": "stdout",
     "output_type": "stream",
     "text": [
      "[[0 1 0 0 0]\n",
      " [1 0 1 0 0]\n",
      " [0 1 0 1 0]\n",
      " [0 0 1 0 1]\n",
      " [0 0 0 1 0]]\n"
     ]
    }
   ],
   "source": [
    "S = np.zeros((5,5), dtype = int)\n"
   ]
  },
  {
   "cell_type": "markdown",
   "id": "92027e27",
   "metadata": {},
   "source": [
    "$\\color{RoyalBlue}{\\large{\\textbf{Ejercicio 09: semi - plus - legendario}}}$\n",
    "\n",
    "Obtener el siguiente llenado de matriz usando ciclos for:\n",
    "\n",
    "$$\n",
    "    B={\\left(\\begin{array}{l l l l l}\n",
    "    {5}&{1}&{0}&{2}&{0}\\\\ \n",
    "    {1}&{5}&{1}&{0}&{2}\\\\ \n",
    "    {0}&{1}&{5}&{1}&{0}\\\\\n",
    "    {2}&{0}&{1}&{5}&{1}\\\\\n",
    "    {0}&{2}&{0}&{1}&{5}\n",
    "    \\end{array}\\right)}\n",
    "$$"
   ]
  },
  {
   "cell_type": "code",
   "execution_count": 18,
   "id": "22b5ace2",
   "metadata": {},
   "outputs": [
    {
     "name": "stdout",
     "output_type": "stream",
     "text": [
      "[[5 1 0 2 0]\n",
      " [1 5 1 0 2]\n",
      " [0 1 5 1 0]\n",
      " [2 0 1 5 1]\n",
      " [0 2 0 1 5]]\n"
     ]
    }
   ],
   "source": [
    "S = np.zeros((5,5), dtype = int)\n"
   ]
  },
  {
   "cell_type": "markdown",
   "id": "75fdf50f",
   "metadata": {},
   "source": [
    "$\\color{RoyalBlue}{\\large{\\textbf{Ejercicio 10: legendario}}}$\n",
    "\n",
    "Obtener el siguiente llenado de matriz usando ciclos for:\n",
    "\n",
    "$$\n",
    "    B={\\left(\\begin{array}{l l l l l}\n",
    "    {1}&{2}&{2}&{2}&{2}\\\\ \n",
    "    {2}&{1}&{0}&{0}&{2}\\\\ \n",
    "    {2}&{0}&{1}&{0}&{2}\\\\\n",
    "    {2}&{0}&{0}&{1}&{2}\\\\\n",
    "    {2}&{2}&{2}&{2}&{1}\n",
    "    \\end{array}\\right)}\n",
    "$$\n"
   ]
  },
  {
   "cell_type": "code",
   "execution_count": 5,
   "id": "5006d498",
   "metadata": {},
   "outputs": [
    {
     "name": "stdout",
     "output_type": "stream",
     "text": [
      "[[1 2 2 2 2]\n",
      " [2 1 0 0 2]\n",
      " [2 0 1 0 2]\n",
      " [2 0 0 1 2]\n",
      " [2 2 2 2 1]]\n"
     ]
    }
   ],
   "source": [
    "B = np.zeros((5,5), dtype = int)\n",
    "\n"
   ]
  },
  {
   "cell_type": "markdown",
   "id": "fca27aff",
   "metadata": {},
   "source": [
    "$\\color{RoyalBlue}{\\LARGE{\\textbf{Resolver sistema de ecuaciones lineales}}}$\n",
    "\n",
    "$\\color{RoyalBlue}{\\large{\\textbf{Ejercicio 11: }}}$"
   ]
  },
  {
   "cell_type": "markdown",
   "id": "c8f7835d",
   "metadata": {},
   "source": [
    "$$\n",
    "\\left[\\begin{array}{rrrrr}\n",
    "375 & -125 & 0 & 0 & 0 \\\\\n",
    "-125 & 250 & -125 & 0 & 0 \\\\\n",
    "0 & -125 & 250 & -125 & 0 \\\\\n",
    "0 & 0 & -125 & 250 & -125 \\\\\n",
    "0 & 0 & 0 & -125 & 375\n",
    "\\end{array}\\right]\\left[\\begin{array}{l}\n",
    "T_1 \\\\\n",
    "T_2 \\\\\n",
    "T_3 \\\\\n",
    "T_4 \\\\\n",
    "T_5\n",
    "\\end{array}\\right]=\\left[\\begin{array}{r}\n",
    "29000 \\\\\n",
    "4000 \\\\\n",
    "4000 \\\\\n",
    "4000 \\\\\n",
    "54000\n",
    "\\end{array}\\right]\n",
    "$$\n",
    "\n",
    "\n",
    "Este debería ser el resultado:\n",
    "\n",
    "$$\n",
    "\\left[\\begin{array}{l}\n",
    "T_1 \\\\\n",
    "T_2 \\\\\n",
    "T_3 \\\\\n",
    "T_4 \\\\\n",
    "T_5\n",
    "\\end{array}\\right]=\\left[\\begin{array}{l}\n",
    "150 \\\\\n",
    "218 \\\\\n",
    "254 \\\\\n",
    "258 \\\\\n",
    "230\n",
    "\\end{array}\\right]\n",
    "$$"
   ]
  },
  {
   "cell_type": "code",
   "execution_count": null,
   "id": "983e89de",
   "metadata": {},
   "outputs": [],
   "source": []
  }
 ],
 "metadata": {
  "kernelspec": {
   "display_name": "Python 3 (ipykernel)",
   "language": "python",
   "name": "python3"
  },
  "language_info": {
   "codemirror_mode": {
    "name": "ipython",
    "version": 3
   },
   "file_extension": ".py",
   "mimetype": "text/x-python",
   "name": "python",
   "nbconvert_exporter": "python",
   "pygments_lexer": "ipython3",
   "version": "3.10.11"
  }
 },
 "nbformat": 4,
 "nbformat_minor": 5
}
