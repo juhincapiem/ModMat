{
 "cells": [
  {
   "cell_type": "markdown",
   "metadata": {},
   "source": [
    "# When Mechanicals systems meet RK4\n",
    "### Juan S. Hincapié - Carlos Duque-Daza"
   ]
  },
  {
   "cell_type": "markdown",
   "metadata": {},
   "source": [
    "## Introducción\n",
    "<br>\n",
    "<div align='justify'>Los métodos Runge-Kutta (o RK) son una generalización del método básico de Euler hacia adelante. Estos métodos se caracterizan por reemplazar la función $f$ (¡la pendiente!) por un promedio ponderado de pendientes que se hallan en $t_n \\leq t \\leq t_{n+1}$. Es decir:</div><br>\n",
    "\n",
    "\n",
    "\n",
    "$$\n",
    "    y_{n+1}=y_{n}+\\Delta t\\,(w_{1}k_{1}+\\,w_{2}k_{2}+\\,\\cdots\\,+\\,w_{m}k_{m})\n",
    "$$\n",
    "\n",
    "<br>\n",
    "<div align='justify'>Donde los pesos $w_{i}$, con $\\,i\\,=\\,1,\\,2,\\,\\cdot\\,\\cdot\\,\\cdot\\,,\\,m$ son constantes que generalmente satisfacen $w_1+w_2+...+w_m=1$, y cada $k_i$ con $\\,i\\,=\\,1,\\,2,\\,\\cdot\\,\\cdot\\,\\cdot\\,,\\,m$ es la función $f$ evaluada en un punto seleccionado $(x, y)$ para el que $t_n \\leq t \\leq t_{n+1}$</div><br>\n",
    "\n",
    "\n",
    "Entonces ¿Cómo son los pesos $w_{i}$ y las pendientes $k_i$ que se usan en RK4? Pues tienen los siguientes valores:\n",
    "\n",
    "$$\n",
    "y_{n+1}=y_{n}+\\frac{\\Delta t}{6}(k_{1}+ 2k_{2}+ 2k_{3}+ k_{4})\n",
    "$$\n",
    "\n",
    "$$\n",
    "k_{1} = f(t_{n},y_{n})\n",
    "$$\n",
    "\n",
    "$$\n",
    "k_{2} = f(t_{n}+\\frac{1}{2}\\Delta t , y_{n}+\\frac{1}{2}\\Delta t k_1)\n",
    "$$\n",
    "\n",
    "$$\n",
    "k_{3} = f(t_{n}+\\frac{1}{2}\\Delta t , y_{n}+\\frac{1}{2}\\Delta t k_2)\n",
    "$$\n",
    "\n",
    "$$\n",
    "k_{4} = f(t_{n}+\\Delta t , y_{n}+\\Delta t k_3)\n",
    "$$\n",
    "\n",
    "¿Y qué significan cada una de estas k's? ¿Qué representan? Son las pendientes evaluadas en tres diferentes puntos del rango temporal $t_n \\leq t \\leq t_{n+1}$: en $t_n$, $t_n+\\frac{1}{2}\\Delta t$ y en $t_{n+1}$. La Figura de abajo puede que aclare un poco más el significado:\n",
    "\n",
    "\n",
    "<img src=https://raw.githubusercontent.com/juhincapiem/ModMat/refs/heads/main/Diagrams/RK4.png alt=\"Runge Kutta orden 4\" width=\"600\"/>\n",
    "\n",
    "*Figura tomada de http://laplace.us.es/wiki/index.php/Din%C3%A1mica_de_la_part%C3%ADcula_no_vinculada_%28CMR%29\n",
    "\n",
    "\n",
    "Ahora que el concepto del método numérico está claro, podemos revisar su implementación. "
   ]
  },
  {
   "cell_type": "markdown",
   "metadata": {},
   "source": [
    "## Mi primer Runge-Kutta 4\n",
    "<br>\n",
    "<div align='justify'>Vamos a empezar duros con la programación del método RK4. Para esto, vamos a tomar nuestro modelo mecánico masa, resorte y amortiguador: </div><br>\n",
    "\n",
    "<img src=https://raw.githubusercontent.com/juhincapiem/ModMat/refs/heads/main/Diagrams/MasaResorteAmortiguador.jpg alt=\"Masa, resorte y amortiguador\" width=\"400\" />\n",
    "\n",
    "\n",
    "Los parametros del sistemas son:\n",
    "\n",
    "\\begin{array}{c|c}\n",
    "\\textbf{Parametro} & \\textbf{Magnitud} \\\\\n",
    "m~/~kg             & 1                 \\\\\n",
    "k~/~N/m            & 10                \\\\\n",
    "c~/~Ns/m            & 2                 \\\\\n",
    "F(t)~/~N                & 0             \n",
    "\\end{array}\n",
    "\n",
    "\n",
    "<div class=\"alert alert-block alert-success\">\n",
    "<b> Paso 01: ¿Cómo queda nuestro modelo?</b>\n",
    "</div><br>\n",
    "\n",
    "$$\n",
    "\\frac{d^2 x}{d t^2}+2 \\frac{d x}{d t}+10 x=0, \\quad x(0)=1, \\quad x^{\\prime}(0)=1\n",
    "$$\n"
   ]
  },
  {
   "cell_type": "markdown",
   "metadata": {},
   "source": [
    "<br>\n",
    "<div class=\"alert alert-block alert-success\">\n",
    "<b> Paso 02: Plantear un cambio de variable. ¿Por qué es necesario este paso?</b>\n",
    "</div><br>\n",
    "\n",
    "El cambio de variables es\n",
    "$$\n",
    "    X_1 = x \\, \\, \\text{y} \\, \\,  X_2 = v\n",
    "$$\n",
    "          \n",
    "Y reemplazando en el modelo mecánico:\n",
    "          \n",
    "$$\n",
    "\\begin{aligned}\n",
    "\\dot{X}_2 &=-\\frac{c}{m} X_2-\\frac{k}{m} X_1+F \\\\\n",
    "\\dot{X}_1 &=X_2\n",
    "\\end{aligned}\n",
    "$$\n",
    "\n",
    "<br>\n",
    "<div class=\"alert alert-block alert-info\">\n",
    "<b> ¡Importante!</b>\n",
    "</div><br>\n",
    "<br>\n",
    "<div align='justify'>De esta forma es mucho más fácil visualizar las pendientes de nuestros sistema de ecuaciones. Si estuvieramos haciendo Euler hacia adelante, entonces el sistema de ecuaciones algebraicas sería: </div><br>\n",
    "\n",
    "$$\n",
    "\\begin{align}\n",
    " V[i+1] &= V[i] + \\left(-\\frac{c}{m} V[i]-\\frac{k}{m} x[i]+F \\right)*\\Delta t \\\\\n",
    "x[i+1] &= x[i] + V[i]*\\Delta t\n",
    "\\end{align}\n",
    "$$\n",
    "\n",
    "<div class=\"alert alert-block alert-success\">\n",
    "<b> Paso 03: ¿Qué tipo de respuesta tendrá? Puede hacer el cálculo ya sea por medio de la forma matricial o directamente  usando la fórmula cuadrática</b>\n",
    "</div><br>\n",
    "\n",
    "#### Opción #1: forma matricial\n",
    "\n",
    "$$\n",
    "|A-I\\lambda| = 0\n",
    "$$\n",
    "<br>\n",
    "Donde la matriz de coeficientes es:\n",
    "$$\n",
    "A = \\left[\\begin{array}{cc}\n",
    "0 & 1 \\\\\n",
    "-\\frac{k}{m} & -\\frac{c}{m}\n",
    "\\end{array}\\right]\n",
    "$$\n",
    "\n",
    "\n",
    "#### Opción #2: fórmula cuadrática\n",
    "\n",
    "$$\n",
    "\\lambda_1=-\\gamma+\\sqrt{\\gamma^2-\\omega^2}, \\quad \\lambda_2=-\\gamma-\\sqrt{\\gamma^2-\\omega^2}\n",
    "$$\n",
    "\n",
    "Donde $2 \\gamma = \\frac{c}{m}$ y $\\omega^2 = \\frac{k}{m}$"
   ]
  },
  {
   "cell_type": "code",
   "execution_count": 5,
   "metadata": {},
   "outputs": [],
   "source": [
    "import matplotlib.pyplot as plt\n",
    "import numpy as np\n",
    "import cmath"
   ]
  },
  {
   "cell_type": "code",
   "execution_count": 4,
   "metadata": {},
   "outputs": [
    {
     "ename": "SyntaxError",
     "evalue": "invalid syntax (3244827305.py, line 1)",
     "output_type": "error",
     "traceback": [
      "\u001b[1;36m  Input \u001b[1;32mIn [4]\u001b[1;36m\u001b[0m\n\u001b[1;33m    m = ; k = ; c =\u001b[0m\n\u001b[1;37m        ^\u001b[0m\n\u001b[1;31mSyntaxError\u001b[0m\u001b[1;31m:\u001b[0m invalid syntax\n"
     ]
    }
   ],
   "source": [
    "m = ; k = ; c = \n",
    "A = np.array()\n",
    "eigvalores,eigvectores = np.linalg.eig()\n",
    "\n",
    "print(\"Los autovalores son: {:}\".format(eigvalores))"
   ]
  },
  {
   "cell_type": "markdown",
   "metadata": {},
   "source": [
    "<br>\n",
    "<div class=\"alert alert-block alert-success\">\n",
    "<b> Paso 04: Creamos dos funciones que contengan las dos pendientes previamente identificadas</b>\n",
    "</div><br>"
   ]
  },
  {
   "cell_type": "code",
   "execution_count": 7,
   "metadata": {},
   "outputs": [],
   "source": [
    "pendV = lambda t,x,v: \n",
    "pendX = lambda t,x,v: "
   ]
  },
  {
   "cell_type": "markdown",
   "metadata": {},
   "source": [
    "<br>\n",
    "<div class=\"alert alert-block alert-success\">\n",
    "<b> Paso 05: Creamos nuestro vector de tiempo y los vectores donde se almacenarán las soluciones. No nos olvidemos de introducir las condiciones iniciales.</b>\n",
    "</div><br>\n",
    "\n",
    "$$\n",
    "t_0 = 0.0, \\quad t_f = 8.0, \\quad \\Delta t = 0.1\n",
    "$$"
   ]
  },
  {
   "cell_type": "code",
   "execution_count": 8,
   "metadata": {},
   "outputs": [],
   "source": []
  },
  {
   "cell_type": "markdown",
   "metadata": {},
   "source": [
    "<br>\n",
    "<div class=\"alert alert-block alert-success\">\n",
    "<b> Paso 06: planteamos nuestro ciclo for</b>\n",
    "</div><br>\n",
    "\n",
    "\n",
    "$$\n",
    "y_{n+1}=y_{n}+\\frac{\\Delta t}{6}(k_{1}+ 2k_{2}+ 2k_{3}+ k_{4})\n",
    "$$\n",
    "\n",
    "$$\n",
    "k_{1} = f(t_{n},y_{n})\n",
    "$$\n",
    "\n",
    "$$\n",
    "k_{2} = f(t_{n}+\\frac{1}{2}\\Delta t , y_{n}+\\frac{1}{2}\\Delta t k_1)\n",
    "$$\n",
    "\n",
    "$$\n",
    "k_{3} = f(t_{n}+\\frac{1}{2}\\Delta t , y_{n}+\\frac{1}{2}\\Delta t k_2)\n",
    "$$\n",
    "\n",
    "$$\n",
    "k_{4} = f(t_{n}+\\Delta t , y_{n}+\\Delta t k_3)\n",
    "$$"
   ]
  },
  {
   "cell_type": "code",
   "execution_count": 9,
   "metadata": {},
   "outputs": [],
   "source": [
    "for i in range(0, len(tiempo)-1):\n",
    "    k1V = pendV(tiempo[i],x[i],v[i])\n",
    "    k1X = pendX(tiempo[i],x[i],v[i])\n",
    "    \n",
    "    k2V = pendV(tiempo[i]    , x[i] , v[i])\n",
    "    k2X = pendX(tiempo[i]    , x[i] , v[i])\n",
    "    \n",
    "    k3V = pendV(tiempo[i]    , x[i] , v[i])\n",
    "    k3X = pendX(tiempo[i]    , x[i] , v[i])\n",
    "    \n",
    "    k4V = pendV(tiempo[i]    , x[i] , v[i])\n",
    "    k4X = pendX(tiempo[i]    , x[i] , v[i])\n",
    "    \n",
    "    v[i+1] = v[i] + \n",
    "    x[i+1] = x[i] + "
   ]
  },
  {
   "cell_type": "markdown",
   "metadata": {},
   "source": [
    "<br>\n",
    "<div class=\"alert alert-block alert-success\">\n",
    "<b> Paso 07: ¡Graficamos!</b>\n",
    "</div><br>"
   ]
  },
  {
   "cell_type": "code",
   "execution_count": 10,
   "metadata": {},
   "outputs": [
    {
     "data": {
      "text/plain": [
       "<matplotlib.legend.Legend at 0x143e0ab6200>"
      ]
     },
     "execution_count": 10,
     "metadata": {},
     "output_type": "execute_result"
    },
    {
     "data": {
      "image/png": "[encoded data removed]",
      "text/plain": [
       "<Figure size 800x500 with 1 Axes>"
      ]
     },
     "metadata": {},
     "output_type": "display_data"
    }
   ],
   "source": [
    "plt.figure(1,figsize=(8,5))\n",
    "plt.plot(tiempo,x,\"--r\",label = \"Solución numérica\")\n",
    "plt.title(\"Mi primer RK4\")\n",
    "plt.xlabel(\"t/s\")\n",
    "plt.ylabel(\"x/m\")\n",
    "plt.grid()\n",
    "plt.legend()"
   ]
  },
  {
   "cell_type": "markdown",
   "metadata": {},
   "source": [
    "<br>\n",
    "<div class=\"alert alert-block alert-warning\">\n",
    "<b> Obtenga la solución analítica al modelo anterior y compare el resultado con la solución numérica previamente encontrada. </b>\n",
    "</div><br>\n",
    "\n",
    "$$\n",
    "x(t)=e^{-\\gamma t}\\left(c_1 \\cos \\left(\\sqrt{\\omega^2-\\gamma^2} t\\right)+c_2 \\operatorname{sen} \\left(\\sqrt{\\omega^2-\\gamma^2} t\\right)\\right)\n",
    "$$\n",
    "\n",
    "Los coeficientes se calculan de la siguiente manera:\n",
    "\n",
    "$$\n",
    "C_1= x(0), \\quad C_2= \\frac{x\\prime(0) + \\gamma C_1}{\\sqrt{\\omega^2 - \\gamma^2}}\n",
    "$$\n",
    "\n",
    "\n",
    "<b>Use el mismo vector de tiempo que usó en el algoritmo RK4</b>\n"
   ]
  },
  {
   "cell_type": "code",
   "execution_count": 19,
   "metadata": {},
   "outputs": [
    {
     "name": "stdout",
     "output_type": "stream",
     "text": [
      "P1 = -1.00+3.00j y P2 = -1.00-3.00j\n",
      "C1 = 1.00 y C2 = 0.67\n"
     ]
    }
   ],
   "source": [
    "# Paso 01: identificar los parámetros\n",
    "gamma = c/(2*m)\n",
    "omega = np.sqrt(k/m)\n",
    "\n",
    "# Paso 02: calcular los autovalores\n",
    "p1 = -gamma + cmath.sqrt(gamma**2-omega**2)\n",
    "p2 = -gamma - cmath.sqrt(gamma**2-omega**2)\n",
    "print(\"P1 = {:.2f} y P2 = {:.2f}\".format(p1,p2))\n",
    "\n",
    "# Paso 03: calcular los coeficientes C1 y C2 a partir de las condiciones iniciales\n",
    "C1 = 1.0\n",
    "C2 = (1.0 + gamma*C1)/(np.sqrt(omega**2-gamma**2))\n",
    "\n",
    "print(\"C1 = {:.2f} y C2 = {:.2f}\".format(C1,C2))\n",
    "\n",
    "# Paso 04: construir función que representa la solución analítica\n",
    "subamort = lambda C1,C2,gamma,omega,t: np.exp(-gamma*t)*(C1*np.cos(np.sqrt(omega**2-gamma**2)*t) \\\n",
    "                                                      + C2*np.sin(np.sqrt(omega**2-gamma**2)*t))\n",
    "# Paso 05: descansamos un momento...\n",
    "\n",
    "# Paso 06: Inicializar el vector para recibir los valores para la posición\n",
    "xAnalit = np.zeros(len(tiempo))\n",
    "\n",
    "# Paso 07: solucionar\n",
    "xAnalit[:] = subamort(C1,C2,gamma,omega,tiempo)"
   ]
  },
  {
   "cell_type": "code",
   "execution_count": 23,
   "metadata": {},
   "outputs": [
    {
     "data": {
      "text/plain": [
       "<matplotlib.legend.Legend at 0x143e40122f0>"
      ]
     },
     "execution_count": 23,
     "metadata": {},
     "output_type": "execute_result"
    },
    {
     "data": {
      "image/png": "[encoded data removed]",
      "text/plain": [
       "<Figure size 800x500 with 1 Axes>"
      ]
     },
     "metadata": {},
     "output_type": "display_data"
    }
   ],
   "source": [
    "plt.figure(2,figsize=(8,5))\n",
    "\n",
    "\n",
    "plt.title(\"Comparación\")\n",
    "plt.xlabel(\"t/s\")\n",
    "plt.ylabel(\"x/m\")\n",
    "#plt.xlim([2,3])\n",
    "plt.grid()\n",
    "plt.legend()"
   ]
  },
  {
   "cell_type": "markdown",
   "metadata": {},
   "source": [
    "<br>\n",
    "<div class=\"alert alert-block alert-warning\">\n",
    "<b> ¡No nos olvidemos de nuestro fiel amigo Euler hacia adelante! Incluyámoslo en la comparación :)</b>\n",
    "</div><br>\n",
    "\n",
    "<b>Use el mismo vector de tiempo que usó en el algoritmo RK4</b>"
   ]
  },
  {
   "cell_type": "code",
   "execution_count": 24,
   "metadata": {},
   "outputs": [],
   "source": [
    "xFE = np.zeros(len(tiempo))\n",
    "vFE = np.zeros(len(tiempo))\n",
    "\n",
    "xFE[0] = 1\n",
    "vFE[0] = 1\n",
    "\n",
    "for i in range(0,len(tiempo)-1):\n",
    "    vFE[i+1] = vFE[i] + dt*pendV(tiempo[i],x[i],v[i])\n",
    "    xFE[i+1] = xFE[i] + dt*pendX(tiempo[i],x[i],v[i])\n",
    "    "
   ]
  },
  {
   "cell_type": "code",
   "execution_count": 25,
   "metadata": {},
   "outputs": [
    {
     "data": {
      "text/plain": [
       "<matplotlib.legend.Legend at 0x143e3ed9990>"
      ]
     },
     "execution_count": 25,
     "metadata": {},
     "output_type": "execute_result"
    },
    {
     "data": {
      "image/png": "[encoded data removed]",
      "text/plain": [
       "<Figure size 800x500 with 1 Axes>"
      ]
     },
     "metadata": {},
     "output_type": "display_data"
    }
   ],
   "source": [
    "plt.figure(3,figsize=(8,5))\n",
    "plt.plot(tiempo,x,\"--r\",label = \"RK4\")\n",
    "plt.plot(tiempo,xFE,\"--b\",label = \"Euler hacia adelante\")\n",
    "plt.plot(tiempo,xAnalit,\"--k\",label = \"Solución analítica\")\n",
    "plt.title(\"Comparación\")\n",
    "plt.xlabel(\"t/s\")\n",
    "plt.ylabel(\"x/m\")\n",
    "#plt.xlim([2,3])\n",
    "plt.grid()\n",
    "plt.legend()"
   ]
  },
  {
   "cell_type": "markdown",
   "metadata": {},
   "source": [
    "<br>\n",
    "<div class=\"alert alert-block alert-warning\">\n",
    "<b> Construya una gráfica de error relativo </b>\n",
    "</div><br>\n",
    "\n",
    "\n",
    "$$\n",
    "    \\text{Error relativo} = \\frac{\\text{Error Absoluto}}{ \\left|\\text{Valor real}\\right|} \n",
    "$$\n",
    "\n",
    "Donde el error absoluto se define como:\n",
    "\n",
    "$$\n",
    "    \\text{Error Absoluto} = \\left|\\text{Valor real} - \\text{Valor aproximado}\\right|\n",
    "$$\n",
    "\n",
    "Use como valor real la solución analítica, y como valores aproximado las soluciones numéricas por RK4 y Euler Hacia Adelante."
   ]
  },
  {
   "cell_type": "code",
   "execution_count": 37,
   "metadata": {},
   "outputs": [],
   "source": [
    "indice =  int(0.5/dt) + 1\n",
    "errorRK4 = \n",
    "errorFE = "
   ]
  },
  {
   "cell_type": "code",
   "execution_count": 38,
   "metadata": {},
   "outputs": [
    {
     "data": {
      "text/plain": [
       "<matplotlib.legend.Legend at 0x143e450bbe0>"
      ]
     },
     "execution_count": 38,
     "metadata": {},
     "output_type": "execute_result"
    },
    {
     "data": {
      "image/png": "[encoded data removed]",
      "text/plain": [
       "<Figure size 800x500 with 1 Axes>"
      ]
     },
     "metadata": {},
     "output_type": "display_data"
    }
   ],
   "source": [
    "plt.figure(4,figsize=(8,5))\n",
    "\n",
    "\n",
    "plt.title(\"Comparación\")\n",
    "plt.xlabel(\"t/s\")\n",
    "plt.ylabel(\"x/m\")\n",
    "#plt.xlim([2,3])\n",
    "plt.grid()\n",
    "plt.legend()"
   ]
  },
  {
   "cell_type": "markdown",
   "metadata": {},
   "source": [
    "## ¿Cómo puedo implementar RK4 de una manera muchos más fácil?\n",
    "<br>\n",
    "<div align='justify'>¿Verdad que es un poco tediosa esa manera de programar RK4? Menos mal lo hicimos sólo para una masa, de lo contrario, se nos hubiese ido toda la clase en programarlo. </div><br>\n",
    "\n",
    "<br>\n",
    "<div align='justify'>Una forma más sencilla de hacerlo es empleando nuestra representación en variables de estado:</div><br>\n",
    "\n",
    "<br>\n",
    "$$\n",
    "\\left[\\begin{array}{l}\n",
    "\\dot{x}_1 \\\\\n",
    "\\dot{x}_2\n",
    "\\end{array}\\right]=\\left[\\begin{array}{cc}\n",
    "0 & 1 \\\\\n",
    "-\\frac{k}{m} & -\\frac{c}{m}\n",
    "\\end{array}\\right]\\left[\\begin{array}{l}\n",
    "x_1 \\\\\n",
    "x_2\n",
    "\\end{array}\\right]+\\left[\\begin{array}{l}\n",
    "0 \\\\\n",
    "F\n",
    "\\end{array}\\right]\n",
    "$$\n",
    "\n",
    "<br>\n",
    "<div align='justify'>Y empleamos nuestros conocimientos de algebra lineal para ir calculando la pendiente, ¿Me siguen? Hagamoslo por pasos:</div><br>\n",
    "\n",
    "<br>\n",
    "<div class=\"alert alert-block alert-success\">\n",
    "<b> Paso 01: Creamos nuestra matriz de coeficientes $A$ y nuestro vector de cargas $F$</b>\n",
    "</div><br>"
   ]
  },
  {
   "cell_type": "code",
   "execution_count": null,
   "metadata": {},
   "outputs": [],
   "source": [
    "A = np.array()\n",
    "F = np.array()"
   ]
  },
  {
   "cell_type": "markdown",
   "metadata": {},
   "source": [
    "<br>\n",
    "<div class=\"alert alert-block alert-success\">\n",
    "<b> Paso 02: Creamos nuestra matriz de vectores de estado:</b>\n",
    "</div><br>"
   ]
  },
  {
   "cell_type": "code",
   "execution_count": null,
   "metadata": {},
   "outputs": [],
   "source": [
    "X = np.zeros((2,len(tiempo)))"
   ]
  },
  {
   "cell_type": "markdown",
   "metadata": {},
   "source": [
    "<br>\n",
    "<div class=\"alert alert-block alert-success\">\n",
    "<b> Paso 03: Incluimos las condiciones iniciales</b>\n",
    "</div><br>"
   ]
  },
  {
   "cell_type": "code",
   "execution_count": null,
   "metadata": {},
   "outputs": [],
   "source": [
    "X[0,0] = 1 # Para la posición\n",
    "X[1,0] = 1 # Para la velocidad"
   ]
  },
  {
   "cell_type": "markdown",
   "metadata": {},
   "source": [
    "<br>\n",
    "<div class=\"alert alert-block alert-success\">\n",
    "<b> Paso 04: Planteamos el ciclo for... pero antes, hagamos una modificación a nuestro algoritmos RK4 </b>\n",
    "</div><br>"
   ]
  },
  {
   "cell_type": "markdown",
   "metadata": {},
   "source": [
    "<br>\n",
    "<div align='justify'>Recordemos nuevamente el algoritmo de RK4</div><br>\n",
    "\n",
    "\n",
    "$$\n",
    "\\begin{align*}\n",
    "X[i+1] &=X[i]+\\frac{\\Delta t}{6}(K_{1}+ 2K_{2}+ 2K_{3}+ K_{4})\\\\ \\\\\n",
    "K_{1} &= f(X[i]) = A\\cdot X + F \\\\ \\\\\n",
    "K_{2} &= f(X[i] + 0.5\\Delta t K1) =   A\\cdot (X[i] + 0.5\\Delta t K1) + F \\\\ \\\\\n",
    "K_{3} &= f(X[i] + 0.5\\Delta t K2) =   A\\cdot (X[i] + 0.5\\Delta t K2) + F \\\\ \\\\\n",
    "K_{4} &= f(X[i] + \\Delta t K3) =   A\\cdot (X[i] + \\Delta t K3) + F \n",
    "\\end{align*}\n",
    "$$\n",
    "\n"
   ]
  },
  {
   "cell_type": "code",
   "execution_count": null,
   "metadata": {},
   "outputs": [
    {
     "name": "stdout",
     "output_type": "stream",
     "text": [
      "[  1. -12.]\n"
     ]
    }
   ],
   "source": [
    "K = np.zeros((2,4)).reshape(2,4)\n",
    "\n",
    "for i in range(0, len(tiempo)-1):\n",
    "    K[:,0] = np.dot(A,X[:,i]) + F.reshape(2,)\n",
    "    K[:,1] = \n",
    "    K[:,2] = \n",
    "    K[:,3] = \n",
    "    \n",
    "    X[:,i+1] = X[:,i] + \n",
    "    "
   ]
  },
  {
   "cell_type": "code",
   "execution_count": null,
   "metadata": {},
   "outputs": [],
   "source": [
    "plt.figure(5,figsize=(8,5))\n",
    "\n",
    "\n",
    "\n",
    "plt.title(\"Comparación\")\n",
    "plt.xlabel(\"t/s\")\n",
    "plt.ylabel(\"x/m\")\n",
    "#plt.xlim([2,3])\n",
    "plt.grid()\n",
    "plt.legend()"
   ]
  },
  {
   "cell_type": "markdown",
   "metadata": {},
   "source": [
    "<div align='justify'>Si desean saber más de cómo funciona la multiplicación <b>dot</b> en Python, entonces les recomiendo leer el siguiente artículo en stackOverflow: </div>\n",
    "\n",
    "https://stackoverflow.com/questions/34607371/why-do-python-numpy-require-a-row-vector-for-matrix-vector-dot-product\n",
    "\n",
    "\n",
    "<br>\n",
    "<div class=\"alert alert-block alert-success\">\n",
    "<b> Paso 05: Podemos dejarla planteada como una función </b>\n",
    "</div><br>"
   ]
  },
  {
   "cell_type": "code",
   "execution_count": null,
   "metadata": {},
   "outputs": [],
   "source": [
    "func = lambda t: 0\n",
    "\n",
    "def pend1(A,c,t,dt,x):\n",
    "\n",
    "\n",
    "def pend2(A,c,t,dt,x, k1):\n",
    "\n",
    "\n",
    "def pend3(A,c,t,dt,x, k2):\n",
    "\n",
    "\n",
    "def pend4(A,c,t,dt,x, k3):\n",
    "\n",
    "\n",
    "def RK4(A,tiempo,dt,X, c):\n",
    "    \n",
    "    # Obtenemos la longitud del tiempo\n",
    "    N = len(tiempo) \n",
    "    \n",
    "    # Inicializamos vectores para almacenar pendientes\n",
    "    k1 = np.zeros(X.shape[-2])\n",
    "    k2 = np.zeros(X.shape[-2])\n",
    "    k3 = np.zeros(X.shape[-2])\n",
    "    k4 = np.zeros(X.shape[-2])\n",
    "    \n",
    "    for i in range(0, N-1):\n",
    "        \n",
    "        k1[:] = \n",
    "        k2[:] = \n",
    "        k3[:] = \n",
    "        k4[:] = \n",
    "        \n",
    "        X[:,i+1] = \n"
   ]
  },
  {
   "cell_type": "code",
   "execution_count": null,
   "metadata": {},
   "outputs": [],
   "source": [
    "# Configuración de la simulacion\n",
    "# Parámetros\n",
    "m = 1; c = 2; k = 10; F = 0 \n",
    "\n",
    "# Tiempo\n",
    "t0 = 0.0; tf = 8; dt = 0.01\n",
    "tiempo = np.arange(t0,tf,dt)\n",
    "\n",
    "# A, X, c\n",
    "A = np.array([[0,1],[-k/m,-c/m]])\n",
    "X = np.zeros((2,len(tiempo)))\n",
    "c = np.zeros(A.shape[-2])\n",
    "\n",
    "# Condiciones iniciales\n",
    "X[0,0] = 1 # Para la posición\n",
    "X[1,0] = 1 # Para la velocidad"
   ]
  },
  {
   "cell_type": "code",
   "execution_count": null,
   "metadata": {},
   "outputs": [],
   "source": [
    "# Llamo la función y pruebo\n",
    "RK4(A,tiempo,dt,X, c)"
   ]
  },
  {
   "cell_type": "code",
   "execution_count": null,
   "metadata": {},
   "outputs": [],
   "source": [
    "plt.figure(6,figsize=(8,5))\n",
    "plt.plot(tiempo,X[0,:],\"--r\",label = \"RK4\")\n",
    "\n",
    "plt.title(\"Revisamos ...\")\n",
    "plt.xlabel(\"t / s\")\n",
    "plt.ylabel(\"x / m\")\n",
    "plt.xlim([0,8])\n",
    "plt.grid()\n",
    "plt.legend()"
   ]
  },
  {
   "cell_type": "markdown",
   "metadata": {},
   "source": [
    "<br>\n",
    "<div class=\"alert alert-block alert-success\">\n",
    "<b> ¡Pequeño reto! </b>\n",
    "</div><br>\n",
    "\n",
    "<div align='justify'>Por un momento imaginemos aproximadamente en $t = 7$ segundos, cuando la masa $M$ estaba en estado estacionario, se aplicó sobre este una fuerza tipo pulso y que puede ser modelado como función Gaussiana:</div>\n",
    "\n",
    "$$\n",
    "    f(x) = a\\cdot exp\\left(-\\frac{(x-b)^2}{2d^2}\\right)\n",
    "$$\n",
    "\n",
    "Donde:\n",
    "\n",
    "$$\n",
    " a = 10 \\, N, \\quad b = 7 \\, s, \\quad d = 0.1\n",
    "$$\n",
    "\n",
    "\n",
    "¿Cómo se comporta la masa $M$? Encuentre la gráfica de posición vs tiempo"
   ]
  },
  {
   "cell_type": "code",
   "execution_count": null,
   "metadata": {},
   "outputs": [],
   "source": [
    "a = 10; b = 7; d = 0.1\n",
    "\n",
    "func = lambda t: a * np.exp(-((t - b)**2) / (2 * d**2))"
   ]
  },
  {
   "cell_type": "code",
   "execution_count": null,
   "metadata": {},
   "outputs": [],
   "source": [
    "plt.figure(7,figsize=(8,5))\n",
    "plt.plot(tiempo,func(tiempo),\"--g\",label = \"RK4\")\n",
    "\n",
    "plt.title(\"Revisamos ...\")\n",
    "plt.xlabel(\"t / s\")\n",
    "plt.ylabel(\"F / N\")\n",
    "plt.xlim([0,8])\n",
    "plt.grid()\n",
    "plt.legend()"
   ]
  },
  {
   "cell_type": "code",
   "execution_count": null,
   "metadata": {},
   "outputs": [],
   "source": [
    "# Configuración de la simulacion\n",
    "# Parámetros\n",
    "m = 1; c = 2; k = 10; F = 0 \n",
    "\n",
    "# Tiempo\n",
    "t0 = 0.0; tf = 12; dt = 0.01\n",
    "tiempo = np.arange(t0,tf,dt)\n",
    "\n",
    "# A, X, c\n",
    "A = np.array([[0,1],[-k/m,-c/m]])\n",
    "X = np.zeros((2,len(tiempo)))\n",
    "c = np.zeros(A.shape[-2])\n",
    "\n",
    "# Condiciones iniciales\n",
    "X[0,0] = 1 # Para la posición\n",
    "X[1,0] = 1 # Para la velocidad"
   ]
  },
  {
   "cell_type": "code",
   "execution_count": null,
   "metadata": {},
   "outputs": [],
   "source": [
    "# Llamo la función y pruebo\n",
    "RK4(A,tiempo,dt,X, c)"
   ]
  },
  {
   "cell_type": "code",
   "execution_count": null,
   "metadata": {},
   "outputs": [],
   "source": [
    "plt.figure(6,figsize=(8,5))\n",
    "plt.plot(tiempo,X[0,:],\"--r\",label = \"RK4\")\n",
    "\n",
    "plt.title(\"Revisamos ...\")\n",
    "plt.xlabel(\"t / s\")\n",
    "plt.ylabel(\"x / m\")\n",
    "plt.xlim([0,12])\n",
    "plt.grid()\n",
    "plt.legend()"
   ]
  },
  {
   "cell_type": "markdown",
   "metadata": {},
   "source": [
    "<div class=\"alert alert-block alert-danger\">\n",
    "<b> Último reto: encuentre el modelo matemático para ambas masa y solucione numéricamente, usando RK4, el sistemas de ecuaciones:</b>\n",
    "</div><br>\n",
    "          \n",
    "\n",
    "<img src=https://raw.githubusercontent.com/juhincapiem/ModMat/refs/heads/main/Diagrams/ejercicioDosMasasResorteAmortiguador.png alt=\"Alternative text\" width=\"200\" />"
   ]
  }
 ],
 "metadata": {
  "kernelspec": {
   "display_name": "Python 3 (ipykernel)",
   "language": "python",
   "name": "python3"
  },
  "language_info": {
   "codemirror_mode": {
    "name": "ipython",
    "version": 3
   },
   "file_extension": ".py",
   "mimetype": "text/x-python",
   "name": "python",
   "nbconvert_exporter": "python",
   "pygments_lexer": "ipython3",
   "version": "3.10.11"
  }
 },
 "nbformat": 4,
 "nbformat_minor": 2
}
