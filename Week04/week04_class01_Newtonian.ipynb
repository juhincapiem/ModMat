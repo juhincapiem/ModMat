{
 "cells": [
  {
   "cell_type": "markdown",
   "metadata": {},
   "source": [
    "## Caso de estudio: Modelos de segundo orden\n",
    "### Juan S. Hincapié - Carlos Duque-Daza"
   ]
  },
  {
   "cell_type": "markdown",
   "metadata": {},
   "source": [
    "### Introducción\n",
    "\n",
    "Hasta el momento sólo hemos resuelto ecuaciones diferenciales ordinarias de primer orden, tanto sistemas como ecuaciones individuales. ¿Qué hay de las edos de segundo orden? ¿Se pueden solucioanr con Euler hacia adelante?\n",
    "\n"
   ]
  },
  {
   "cell_type": "code",
   "execution_count": 29,
   "metadata": {},
   "outputs": [],
   "source": [
    "import matplotlib.pyplot as plt\n",
    "import numpy as np"
   ]
  },
  {
   "cell_type": "code",
   "execution_count": 30,
   "metadata": {},
   "outputs": [],
   "source": [
    "# Problema 0: crear un vector de tiempo\n",
    "\n",
    "# Problema 1: crear dos vectores vacíos para almacenar los valores de posición y velocidad\n",
    "\n",
    "# Problema 2: introducir las condiciones iniciales\n",
    "\n",
    "# Problema 3: dos funciones para evaluar la pendiente\n",
    "\n",
    "# Problema 4: ciclo for para resolver con Forward Euler\n",
    "\n",
    "# Problema 5: el profe quiere ver tus resultados\n"
   ]
  }
 ],
 "metadata": {
  "kernelspec": {
   "display_name": "Python 3",
   "language": "python",
   "name": "python3"
  },
  "language_info": {
   "codemirror_mode": {
    "name": "ipython",
    "version": 3
   },
   "file_extension": ".py",
   "mimetype": "text/x-python",
   "name": "python",
   "nbconvert_exporter": "python",
   "pygments_lexer": "ipython3",
   "version": "3.10.11"
  }
 },
 "nbformat": 4,
 "nbformat_minor": 2
}
