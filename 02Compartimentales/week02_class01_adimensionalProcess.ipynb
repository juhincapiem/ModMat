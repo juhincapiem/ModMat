{
 "cells": [
  {
   "cell_type": "markdown",
   "id": "cd95f81c",
   "metadata": {},
   "source": [
    "## Proceso de adimensionalización\n",
    "### Juan S. Hincapié - Carlos Duque-Daza"
   ]
  },
  {
   "cell_type": "markdown",
   "id": "c30f1d7d",
   "metadata": {},
   "source": [
    "### Homogeneidad dimensional \n",
    "\n",
    "<div align='justify'>Seguramente cuando estabas aprendiendo los principios del álgebra te dijeron \"No se pueden sumar peras con manzanas\". Un clásico ¿Verdad? En realidad, esta expresión proviene de una ley matemática más global y funadamental para ecuaciones: la <b>Ley de homogeneidad dimensional</b>. Esta ley dice lo siguiente: </div>\n",
    "\n",
    "<div align='center'> Todo término aditivo en una ecuación debe tener las mismas dimensiones. </div><br>\n",
    "\n",
    "<div align='justify'>Como simple ejemplo, considere la ecuación de movimiento que describe la elevación $z$ de un objeto que cae por la gravedad a través de un vacío (sin resistencia del aire) ¿Se cumple la Ley de homogeneidad universal?</div>\n",
    "\n",
    "\n"
   ]
  },
  {
   "cell_type": "code",
   "execution_count": null,
   "id": "56b98baf",
   "metadata": {},
   "outputs": [],
   "source": []
  }
 ],
 "metadata": {
  "kernelspec": {
   "display_name": "Python 3 (ipykernel)",
   "language": "python",
   "name": "python3"
  },
  "language_info": {
   "codemirror_mode": {
    "name": "ipython",
    "version": 3
   },
   "file_extension": ".py",
   "mimetype": "text/x-python",
   "name": "python",
   "nbconvert_exporter": "python",
   "pygments_lexer": "ipython3",
   "version": "3.10.11"
  }
 },
 "nbformat": 4,
 "nbformat_minor": 5
}
