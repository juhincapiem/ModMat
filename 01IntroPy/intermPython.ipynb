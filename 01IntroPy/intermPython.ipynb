{
 "cells": [
  {
   "cell_type": "markdown",
   "id": "9e380660",
   "metadata": {},
   "source": [
    "## Nivel intermedio en Python y Jupyter-notebooks\n",
    "\n",
    "### Juan S. Hincapié - Carlos Duque-Daza"
   ]
  },
  {
   "cell_type": "markdown",
   "id": "656b62d8",
   "metadata": {},
   "source": [
    "### Estamos finos ¿Qué sigue?\n",
    "\n",
    "<div align='justify'>Los ejercicios que hicimos la clase pasada nos ayudaron para \"calentar motores\" ¿Cómo así? Quiero decir, para captar la lógica de programación y asimilar la sintaxis del lenguaje de programación que usaremos a lo largo del curso.  Ahora podemos empezar a estudiar librerías y funciones que nos ayudarán al momento de querer implementar métodos númericos en código. </div>\n",
    "\n",
    "### Vectores y matrices\n",
    "<div align='justify'>Los vectores, matrices y la operación entre ellos es esencial para la solución de modelos matemáticos ¿Qué nos ofrece Python para este aspecto? Pues bien tenemos la librería Numpy, una biblioteca que da soporte para crear vectores y matrices grandes multidimensionales, junto con una gran colección de funciones matemáticas de alto nivel para operar con ellas. Lo primero que debemos hacer es importarla. Echemosle un vistazo: </div>"
   ]
  },
  {
   "cell_type": "code",
   "execution_count": 1,
   "id": "1fb47c50",
   "metadata": {},
   "outputs": [],
   "source": [
    "import numpy as np"
   ]
  },
  {
   "cell_type": "markdown",
   "id": "aa12427b",
   "metadata": {},
   "source": [
    "Podemos crear vectores y operar con ellos:"
   ]
  },
  {
   "cell_type": "code",
   "execution_count": 18,
   "id": "7f29e74c",
   "metadata": {},
   "outputs": [
    {
     "name": "stdout",
     "output_type": "stream",
     "text": [
      "[7 7 7 7 7]\n"
     ]
    }
   ],
   "source": [
    "vector1 = np.array([1, 2, 3, 4, 5])\n",
    "vector2 = np.array(range(6,1,-1))\n",
    "\n",
    "print(vector1 + vector2)"
   ]
  },
  {
   "cell_type": "markdown",
   "id": "ff0c08be",
   "metadata": {},
   "source": [
    "**Ejercicio:** ¿Puede reconocer qué operaciones se están llevando a cabo en las siguientes líneas?"
   ]
  },
  {
   "cell_type": "code",
   "execution_count": 21,
   "id": "361a2842",
   "metadata": {},
   "outputs": [
    {
     "name": "stdout",
     "output_type": "stream",
     "text": [
      "[ 6 14 24 36 50]\n",
      "130\n"
     ]
    }
   ],
   "source": [
    "vector1 = np.array([1, 2, 3, 4, 5])\n",
    "vector2 = np.array([6, 7, 8, 9, 10])\n",
    "\n",
    "print(vector1 * vector2)\n",
    "print(vector1 @ vector2)"
   ]
  },
  {
   "cell_type": "markdown",
   "id": "0a550ba3",
   "metadata": {},
   "source": [
    "Podemos acceder a los elementos del vector usando la siguiente sintaxis:"
   ]
  },
  {
   "cell_type": "code",
   "execution_count": 25,
   "id": "a7170745",
   "metadata": {},
   "outputs": [
    {
     "name": "stdout",
     "output_type": "stream",
     "text": [
      "1\n"
     ]
    }
   ],
   "source": [
    "vector1 = np.array([1, 2, 3, 4, 5])\n",
    "print(vector1[0])"
   ]
  },
  {
   "cell_type": "code",
   "execution_count": 27,
   "id": "8aab0344",
   "metadata": {},
   "outputs": [
    {
     "name": "stdout",
     "output_type": "stream",
     "text": [
      "[1 2 3]\n"
     ]
    }
   ],
   "source": [
    "print(vector1[0:3])"
   ]
  },
  {
   "cell_type": "code",
   "execution_count": 29,
   "id": "a63e3a32",
   "metadata": {},
   "outputs": [
    {
     "name": "stdout",
     "output_type": "stream",
     "text": [
      "5\n"
     ]
    }
   ],
   "source": [
    "print(vector1[-1])"
   ]
  },
  {
   "cell_type": "markdown",
   "id": "7ab47c4d",
   "metadata": {},
   "source": [
    "También podemos conocer el número de elementos que contiene un vector usando la siguiente función:"
   ]
  },
  {
   "cell_type": "code",
   "execution_count": 32,
   "id": "158c5db8",
   "metadata": {},
   "outputs": [
    {
     "name": "stdout",
     "output_type": "stream",
     "text": [
      "5\n"
     ]
    }
   ],
   "source": [
    "print(len(vector1))"
   ]
  },
  {
   "cell_type": "markdown",
   "id": "ccefdc1f",
   "metadata": {},
   "source": [
    "**Ejercicio:** Escribe un programa que muestre sólo aquellos números de una lista que cumplan las siguientes condiciones:\n",
    "\n",
    "1. El número debe ser divisible por cinco\n",
    "1. El número debe ser mayor a 50.\n",
    "1. El número debe ser menor a 500"
   ]
  },
  {
   "cell_type": "code",
   "execution_count": 35,
   "id": "a701450a",
   "metadata": {},
   "outputs": [
    {
     "name": "stdout",
     "output_type": "stream",
     "text": [
      "75\n",
      "150\n",
      "180\n",
      "145\n"
     ]
    }
   ],
   "source": [
    "numeros = np.array([12, 75, 150, 180, 145, 525, 50])\n",
    "\n",
    "#Debemos iterar sobre los número de la lista. \n",
    "#Propongo una manera:\n",
    "for elemento in range(0, len(numeros)):\n",
    "    if numeros[] <  :\n",
    "        if numeros[] >  :\n",
    "            if numeros[] %  == :\n",
    "                print()"
   ]
  },
  {
   "cell_type": "markdown",
   "id": "0d7254f7",
   "metadata": {},
   "source": [
    "**Ejercicio:** Escriba un código en el que se solicita 5 número a un usuario y se deben almacenar en un vector. Al final se debe imprimir el vector:"
   ]
  },
  {
   "cell_type": "code",
   "execution_count": 38,
   "id": "653ab5ba",
   "metadata": {},
   "outputs": [
    {
     "name": "stdout",
     "output_type": "stream",
     "text": [
      "Ingrese un número: 1\n",
      "Ingrese un número: 2\n",
      "Ingrese un número: 3\n",
      "Ingrese un número: 4\n",
      "Ingrese un número: 5\n",
      "[1. 2. 3. 4. 5.]\n"
     ]
    }
   ],
   "source": [
    "#Esta función nos permite reservar memoria para el vector, creando un vector de ceros:\n",
    "vector = np.zeros(5)\n",
    "\n",
    "for i in range():\n",
    "    "
   ]
  },
  {
   "cell_type": "markdown",
   "id": "644c7fc3",
   "metadata": {},
   "source": [
    "**Ejercicio:** Un fabricante de joyería de diseño tiene órdenes por dos anillos, tres pares de aretes, cinco prendedores y un collar. El fabricante estima que le llevará 1 hora de mano de obra hacer un anillo, 1 1/2 horas hacer un par de aretes, 21 hora para un prendedor y 2 horas para un collar.\n",
    "\n",
    "1. Exprese las órdenes del fabricante como un vector renglón.\n",
    "1. Exprese los requerimientos en horas para los distintos tipos de joyas como un vector columna\n",
    "1. Utilice el producto escalar para calcular el número total de horas que requerirá paraterminar las órdenes"
   ]
  },
  {
   "cell_type": "code",
   "execution_count": 69,
   "id": "a7799eb7",
   "metadata": {},
   "outputs": [
    {
     "name": "stdout",
     "output_type": "stream",
     "text": [
      "[[113.5]]\n"
     ]
    }
   ],
   "source": [
    "ordenes = np.array([[, , , ]])\n",
    "tiempo = np.array([[],[],[],[]])\n",
    "\n",
    "print(np.dot(,))"
   ]
  },
  {
   "cell_type": "markdown",
   "id": "7f00ad09",
   "metadata": {},
   "source": [
    "**Ejercicio:** Un turista regresó de un viaje por América del Sur con divisa extranjera de las siguientes denominaciones: 1000 pesos argentinos, 20 reales de Brasil, 100 pesos colombianos, 5000 pesos chilenos y 50 colones de Costa Rica. En dólares, un peso argentino valía $\\$$0.3174, los reales brasileños $\\$$0.4962, los pesos colombianos $\\$$0.000471, los pesos chilenos $\\$$0.00191 y los colones $\\$$0.001928\n",
    "\n",
    "1. Exprese la cantidad de cada tipo de moneda por medio de un vector renglón\n",
    "1. Exprese el valor de cada tipo de moneda en dólares por medio de un vector columna.\n",
    "1. Utilice el producto escalar para calcular cuántos dólares valía el dinero extranjero del\n",
    "turista"
   ]
  },
  {
   "cell_type": "code",
   "execution_count": null,
   "id": "4040244b",
   "metadata": {},
   "outputs": [],
   "source": []
  },
  {
   "cell_type": "markdown",
   "id": "6c469628",
   "metadata": {},
   "source": [
    "También podemos crear matrices usando la misma función **np.array**. Miremos cómo se hace:"
   ]
  },
  {
   "cell_type": "code",
   "execution_count": 40,
   "id": "bdd66a3e",
   "metadata": {},
   "outputs": [
    {
     "name": "stdout",
     "output_type": "stream",
     "text": [
      "[[ 3  4 -1]\n",
      " [ 2  0  1]\n",
      " [ 1  3 -2]]\n"
     ]
    }
   ],
   "source": [
    "M = np.array([[3,4,-1],[2,0,1],[1,3,-2]])\n",
    "print(M)"
   ]
  },
  {
   "cell_type": "markdown",
   "id": "f59f504d",
   "metadata": {},
   "source": [
    "¿Qué operaciones nos permite hacer Python?"
   ]
  },
  {
   "cell_type": "code",
   "execution_count": 42,
   "id": "625d1d7d",
   "metadata": {},
   "outputs": [
    {
     "name": "stdout",
     "output_type": "stream",
     "text": [
      "[[-0.6  1.   0.8]\n",
      " [ 1.  -1.  -1. ]\n",
      " [ 1.2 -1.  -1.6]]\n"
     ]
    }
   ],
   "source": [
    "M_inv = np.linalg.inv(M)\n",
    "print(M_inv)\n",
    "\n",
    "#¿Cómo verificamos que es la inversa?"
   ]
  },
  {
   "cell_type": "code",
   "execution_count": 46,
   "id": "ac036d77",
   "metadata": {},
   "outputs": [
    {
     "name": "stdout",
     "output_type": "stream",
     "text": [
      "[[ 3  2  1]\n",
      " [ 4  0  3]\n",
      " [-1  1 -2]]\n"
     ]
    }
   ],
   "source": [
    "M_tr = np.transpose(M)\n",
    "print(M_tr)\n",
    "#¿Cómo verificamos que es la transpuesta?"
   ]
  },
  {
   "cell_type": "code",
   "execution_count": 48,
   "id": "5c8b5daa",
   "metadata": {},
   "outputs": [
    {
     "name": "stdout",
     "output_type": "stream",
     "text": [
      "\n"
     ]
    }
   ],
   "source": [
    "#¿Será que el determinante es diferente de cero? ¿Cómo saberlo?\n",
    "M_det = np.linalg.det(M)\n",
    "print(M_det)"
   ]
  },
  {
   "cell_type": "markdown",
   "id": "b5a761cf",
   "metadata": {},
   "source": [
    "<div align='justify'><b>Ejercicio:</b> Una fábrica de muebles de calidad tiene dos divisiones: un taller de máquinas herramienta donde se fabrican las partes de los muebles, y una división de ensamble y terminado en la que se unen las partes para obtener el producto final. Suponga que se tienen $12$ empleados en el taller y $20$ en la división y que cada empleado trabaja $8$ horas. Suponga también que se producen únicamente dos artículos: sillas y mesas. Una silla requiere $384/17$ horas de maquinado y $480/17$ horas de ensamble y terminado. Una mesa requiere $240/17$ horas de maquinado y $640/17$ horas de ensamble y terminado. Suponiendo que se tiene una demanda ilimitada de estos productos y que el fabricante desea mantener ocupados a todos sus empleados, ¿cuántas sillas y cuántas mesas puede producir esta fábrica al día? </div>\n",
    "\n",
    "$x$: Número de sillas $y$: Número de mesas\n",
    "\n",
    "\\begin{align*}\n",
    "    & \\frac{384}{17}x + \\frac{240}{17}y = 8 \\times 12 \\\\\n",
    "    & \\frac{480}{17}x + \\frac{640}{17}y = 8 \\times 20\n",
    "\\end{align*}\n",
    "\n",
    "Con las funciones que hemos visto hasta ahora, ¿Cómo podríamos resolver este problema?"
   ]
  },
  {
   "cell_type": "code",
   "execution_count": 51,
   "id": "7b573127",
   "metadata": {},
   "outputs": [
    {
     "name": "stdout",
     "output_type": "stream",
     "text": [
      "[[22.58823529 14.11764706]\n",
      " [28.23529412 37.64705882]]\n",
      "[[ 96]\n",
      " [160]]\n"
     ]
    }
   ],
   "source": [
    "A = \n",
    "print(A)\n",
    "b = \n",
    "print(b)"
   ]
  },
  {
   "cell_type": "code",
   "execution_count": 53,
   "id": "c96bb24b",
   "metadata": {},
   "outputs": [
    {
     "name": "stdout",
     "output_type": "stream",
     "text": [
      "[[3.]\n",
      " [2.]]\n"
     ]
    }
   ],
   "source": [
    "x = np.dot()\n",
    "print(x)"
   ]
  },
  {
   "cell_type": "markdown",
   "id": "294d1eae",
   "metadata": {},
   "source": [
    "<div align='justify'><b>Ejercicio:</b> La alacena de ingredientes mágicos de una hechicera contiene $10$ onzas de tréboles de\n",
    "cuatro hojas molidos y $14$ onzas de raíz de mandrágora en polvo. La alacena se resurte en forma automática siempre y cuando ella termine con todo lo que tiene. Una poción para entender Python requiere $3 \\frac{1}{13}$ onzas de tréboles y $2~\\frac{2}{13}$ onzas de mandrágora. Una receta de un conocido tratamiento para poder plantear modelos matemáticos como Alfio Quarteroni  común requiere $5~\\frac{5}{13}$ onzas de tréboles y $10~\\frac{10}{13}$ onzas de mandrágora. ¿Qué cantidad de la poción para entender Python y del remedio para modelar matemáticamente se debe combinar para usar toda la reserva en su alacena?</div>\n",
    "\n",
    "Plantee el sistema de ecuaciones:"
   ]
  },
  {
   "cell_type": "code",
   "execution_count": 57,
   "id": "bdbefcfd",
   "metadata": {},
   "outputs": [
    {
     "name": "stdout",
     "output_type": "stream",
     "text": [
      "[[ 3.07692308  5.38461538]\n",
      " [ 2.15384615 10.76923077]]\n",
      "[[10]\n",
      " [14]]\n",
      "[[1.5]\n",
      " [1. ]]\n"
     ]
    }
   ],
   "source": [
    "A = np.array()\n",
    "print(A)\n",
    "b = np.array()\n",
    "print(b)\n",
    "x = np.dot()\n",
    "print(x)"
   ]
  },
  {
   "cell_type": "markdown",
   "id": "e5cb1e36",
   "metadata": {},
   "source": [
    "Verifiquemos que el resultado sea el correcto:"
   ]
  },
  {
   "cell_type": "code",
   "execution_count": null,
   "id": "4a82da5a",
   "metadata": {},
   "outputs": [],
   "source": []
  },
  {
   "cell_type": "markdown",
   "id": "025d760f",
   "metadata": {},
   "source": [
    "### Índices de los elementos de una matriz\n",
    "Los elementos de una matriz, al igual que con los vectores, tienen unos índices que los indentifican ¿Cuál es la lógica de los índices?"
   ]
  },
  {
   "cell_type": "code",
   "execution_count": 68,
   "id": "89562100",
   "metadata": {},
   "outputs": [
    {
     "name": "stdout",
     "output_type": "stream",
     "text": [
      "[[1 2 3]\n",
      " [4 5 6]\n",
      " [7 8 9]]\n"
     ]
    }
   ],
   "source": [
    "F = np.array([[1,2,3],[4,5,6],[7,8,9]])\n",
    "print(F)"
   ]
  },
  {
   "cell_type": "code",
   "execution_count": 60,
   "id": "3e063433",
   "metadata": {},
   "outputs": [
    {
     "name": "stdout",
     "output_type": "stream",
     "text": [
      "1\n"
     ]
    }
   ],
   "source": [
    "print(F[0,0])"
   ]
  },
  {
   "cell_type": "code",
   "execution_count": 63,
   "id": "ff7082c4",
   "metadata": {},
   "outputs": [
    {
     "name": "stdout",
     "output_type": "stream",
     "text": [
      "9\n"
     ]
    }
   ],
   "source": [
    "print(F[2,2]) #¿Por qué no es F[3,3]?"
   ]
  },
  {
   "cell_type": "code",
   "execution_count": 64,
   "id": "0d534fe5",
   "metadata": {},
   "outputs": [
    {
     "name": "stdout",
     "output_type": "stream",
     "text": [
      "[4 5 6]\n"
     ]
    }
   ],
   "source": [
    "print(F[1,:])"
   ]
  },
  {
   "cell_type": "markdown",
   "id": "63bc6d8b",
   "metadata": {},
   "source": [
    "¿Qué haría para imprimir únicamente la segunda columna?"
   ]
  },
  {
   "cell_type": "code",
   "execution_count": null,
   "id": "1f754ecf",
   "metadata": {},
   "outputs": [],
   "source": []
  },
  {
   "cell_type": "markdown",
   "id": "0567bcb2",
   "metadata": {},
   "source": [
    "### ¿Cómo podemos recorrer una matriz?\n",
    "\n",
    "<div align='justify'>Saber cómo ingresar en las \"entrañas\" es muy importante para poder implementar métodos númericos en código. Por ejemplo, para ingresar condiciones de frontera de una EDP. Por ahora, nos esforzaremos por \"agarrar\" la lógica de los recorridos usando ciclos For.</div>"
   ]
  },
  {
   "cell_type": "code",
   "execution_count": 90,
   "id": "37308e1f",
   "metadata": {},
   "outputs": [
    {
     "name": "stdout",
     "output_type": "stream",
     "text": [
      "[[ 1.5  3.   4.5]\n",
      " [ 6.   7.5  9. ]\n",
      " [10.5 12.  13.5]]\n"
     ]
    }
   ],
   "source": [
    "H = np.array([[1,2,3],[4,5,6],[7,8,9]])*1.5\n",
    "print(H)"
   ]
  },
  {
   "cell_type": "markdown",
   "id": "7067c80a",
   "metadata": {},
   "source": [
    "Tenemos muchas opciones para recorrer una matriz; pero acá les voy a presentar únicamente una. Si entendemos esta primera lógica, entender las demás será \"papita pal loro.\""
   ]
  },
  {
   "cell_type": "code",
   "execution_count": 93,
   "id": "a7e4625e",
   "metadata": {},
   "outputs": [
    {
     "name": "stdout",
     "output_type": "stream",
     "text": [
      "1.5 3.0 4.5 \n",
      "6.0 7.5 9.0 \n",
      "10.5 12.0 13.5 \n"
     ]
    }
   ],
   "source": [
    "#Podemos obtener primero las dimensiones de una matriz con la siguiente función\n",
    "row, col = H.shape\n",
    "#Construimos un primer ciclo for que irá fila por fila\n",
    "for r in range(0,row,1):\n",
    "    #Pero antes de pasar a la siguiente fila, tendrá que pasar por todas las columnas\n",
    "    for c in range(0,col,1):\n",
    "        #¿Cómo saber si estamos recorriendo la matriz como pensábamos? ¡Print!\n",
    "        print(H[r, c], end = \" \")\n",
    "    print(\"\")"
   ]
  },
  {
   "cell_type": "markdown",
   "id": "8a959301",
   "metadata": {},
   "source": [
    "**Ejercicio semi-legendario:** Obtener el siguiente llenado de matriz usando un ciclo for:\n",
    "\n",
    "$$\n",
    "    B={\\left(\\begin{array}{l l l}\n",
    "    {1}&{0}&{0}\\\\ \n",
    "    {0}&{1}&{0}\\\\ \n",
    "    {0}&{0}&{1}\n",
    "    \\end{array}\\right)}\n",
    "$$\n"
   ]
  },
  {
   "cell_type": "code",
   "execution_count": 103,
   "id": "8ff2bfea",
   "metadata": {},
   "outputs": [
    {
     "name": "stdout",
     "output_type": "stream",
     "text": [
      "[[0 0 0]\n",
      " [0 0 0]\n",
      " [0 0 0]]\n"
     ]
    }
   ],
   "source": [
    "B = np.zeros((3,3), dtype = int)\n",
    "print(B)"
   ]
  },
  {
   "cell_type": "code",
   "execution_count": 104,
   "id": "a971b9fb",
   "metadata": {},
   "outputs": [
    {
     "name": "stdout",
     "output_type": "stream",
     "text": [
      "[[1 0 0]\n",
      " [0 1 0]\n",
      " [0 0 1]]\n"
     ]
    }
   ],
   "source": [
    "row, col = B.shape\n",
    "for r in range():\n",
    "    for c in range():\n",
    "        if  == :\n",
    "            B[] = 1\n",
    "print(B)"
   ]
  },
  {
   "cell_type": "markdown",
   "id": "ab874818",
   "metadata": {},
   "source": [
    "**Ejercicio semi-plus-legendario:** Obtener el siguiente llenado de matriz usando un ciclo for:\n",
    "\n",
    "$$\n",
    "    B={\\left(\\begin{array}{l l l l l}\n",
    "    {0}&{1}&{0}&{0}&{0}\\\\ \n",
    "    {1}&{0}&{1}&{0}&{0}\\\\ \n",
    "    {0}&{1}&{0}&{1}&{0}\\\\\n",
    "    {0}&{0}&{1}&{0}&{1}\\\\\n",
    "    {0}&{0}&{0}&{1}&{0}\n",
    "    \\end{array}\\right)}\n",
    "$$"
   ]
  },
  {
   "cell_type": "code",
   "execution_count": 107,
   "id": "4d2f6d05",
   "metadata": {},
   "outputs": [
    {
     "name": "stdout",
     "output_type": "stream",
     "text": [
      "[[0 1 0 0 0]\n",
      " [1 0 1 0 0]\n",
      " [0 1 0 1 0]\n",
      " [0 0 1 0 1]\n",
      " [0 0 0 1 0]]\n"
     ]
    }
   ],
   "source": [
    "S = np.zeros((5,5), dtype = int)\n",
    "\n",
    "row, col = S.shape\n",
    "for r in range():\n",
    "    for c in range():\n",
    "        if   and :\n",
    "            S[r, c+1] = 1\n",
    "        if   and :\n",
    "            S[r, c-1] = 1\n",
    "            \n",
    "print(S)"
   ]
  },
  {
   "cell_type": "markdown",
   "id": "7fec677e",
   "metadata": {},
   "source": [
    "**Ejercicio legendario:** Obtener el siguiente llenado de matriz usando un ciclo for:\n",
    "\n",
    "$$\n",
    "    B={\\left(\\begin{array}{l l l l l}\n",
    "    {1}&{2}&{2}&{2}&{2}\\\\ \n",
    "    {2}&{1}&{0}&{0}&{2}\\\\ \n",
    "    {2}&{0}&{1}&{0}&{2}\\\\\n",
    "    {2}&{0}&{0}&{1}&{2}\\\\\n",
    "    {2}&{2}&{2}&{2}&{1}\n",
    "    \\end{array}\\right)}\n",
    "$$\n"
   ]
  },
  {
   "cell_type": "code",
   "execution_count": 105,
   "id": "faab608f",
   "metadata": {},
   "outputs": [
    {
     "name": "stdout",
     "output_type": "stream",
     "text": [
      "[[0 0 0 0 0]\n",
      " [0 0 0 0 0]\n",
      " [0 0 0 0 0]\n",
      " [0 0 0 0 0]\n",
      " [0 0 0 0 0]]\n"
     ]
    }
   ],
   "source": [
    "B = np.zeros((5,5), dtype = int)\n",
    "print(B)"
   ]
  },
  {
   "cell_type": "markdown",
   "id": "c82e4d7e",
   "metadata": {},
   "source": [
    "### Gráficas en Python: matplotlib\n",
    "\n",
    "<div align='justify'> Matplotlib es una súper biblioteca para crear visualizaciones estáticas, animadas e interactivas en Python. Es bastante poderoso; muchos investigadores las usan para hacer </div>\n",
    "\n",
    "https://matplotlib.org/"
   ]
  },
  {
   "cell_type": "code",
   "execution_count": 110,
   "id": "cbaf8172",
   "metadata": {},
   "outputs": [],
   "source": [
    "import matplotlib.pyplot as plt"
   ]
  },
  {
   "cell_type": "code",
   "execution_count": 112,
   "id": "c0aad6dd",
   "metadata": {},
   "outputs": [
    {
     "data": {
      "image/png": "[encoded data removed]",
      "text/plain": [
       "<Figure size 200x200 with 1 Axes>"
      ]
     },
     "metadata": {},
     "output_type": "display_data"
    }
   ],
   "source": [
    "# make a stream function:\n",
    "X, Y = np.meshgrid(np.linspace(-3, 3, 256), np.linspace(-3, 3, 256))\n",
    "Z = (1 - X/2 + X**5 + Y**3) * np.exp(-X**2 - Y**2)\n",
    "# make U and V out of the streamfunction:\n",
    "V = np.diff(Z[1:, :], axis=1)\n",
    "U = -np.diff(Z[:, 1:], axis=0)\n",
    "\n",
    "# plot:\n",
    "fig, ax = plt.subplots()\n",
    "\n",
    "ax.streamplot(X[1:, 1:], Y[1:, 1:], U, V)\n",
    "\n",
    "plt.show()"
   ]
  },
  {
   "cell_type": "code",
   "execution_count": 109,
   "id": "e2617e4f",
   "metadata": {},
   "outputs": [
    {
     "data": {
      "image/png": "[encoded data removed]",
      "text/plain": [
       "<Figure size 640x480 with 1 Axes>"
      ]
     },
     "metadata": {},
     "output_type": "display_data"
    }
   ],
   "source": [
    "xpoints = np.array([0, 6])\n",
    "ypoints = np.array([0, 250])\n",
    "\n",
    "plt.plot(xpoints, ypoints)\n",
    "plt.show()"
   ]
  },
  {
   "cell_type": "code",
   "execution_count": null,
   "id": "49494d34",
   "metadata": {},
   "outputs": [],
   "source": [
    "plt.plot(xpoints, ypoints)\n",
    "plt.show()"
   ]
  }
 ],
 "metadata": {
  "kernelspec": {
   "display_name": "Python 3 (ipykernel)",
   "language": "python",
   "name": "python3"
  },
  "language_info": {
   "codemirror_mode": {
    "name": "ipython",
    "version": 3
   },
   "file_extension": ".py",
   "mimetype": "text/x-python",
   "name": "python",
   "nbconvert_exporter": "python",
   "pygments_lexer": "ipython3",
   "version": "3.10.11"
  }
 },
 "nbformat": 4,
 "nbformat_minor": 5
}
