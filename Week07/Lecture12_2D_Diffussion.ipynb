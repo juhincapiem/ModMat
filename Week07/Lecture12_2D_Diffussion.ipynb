{
 "cells": [
  {
   "cell_type": "markdown",
   "metadata": {},
   "source": [
    "# Transporte difusivo Bidimensional\n",
    "### Juan S. Hincapié - Carlos Duque-Daza\n"
   ]
  },
  {
   "cell_type": "markdown",
   "metadata": {},
   "source": [
    "## Esquemas espaciales para derivadas de primer orden\n",
    "Las más conocidas son:\n",
    "\n",
    "Forward Finite Difference:\n",
    "\n",
    "$$\n",
    "    \\frac{d\\phi}{dx} \\approx \\frac{\\phi_{i+1}-\\phi_{i}}{\\Delta x} +  O(\\Delta x)\n",
    "$$\n",
    "\n",
    "\n",
    "Backward Finite Difference:\n",
    "$$\n",
    "    \\frac{d\\phi}{dx} \\approx \\frac{\\phi_{i}-\\phi_{i-1}}{\\Delta x} +  O(\\Delta x) \n",
    "$$\n",
    "\n",
    "\n",
    "Central Finite Difference:\n",
    "$$\n",
    "    \\frac{d\\phi}{dx} \\approx \\frac{\\phi_{i+1}-\\phi_{i-1}}{2\\Delta x} +  O(\\Delta x)^2 \n",
    "$$\n",
    "\n",
    "\n",
    "## Esquemas espaciales para derivadas de segundo orden\n",
    "\n",
    "Central Finite Difference:\n",
    "$$\n",
    " \\frac{d^2\\phi}{dx^2} \\approx \\frac{\\phi_{i+1}-2\\phi_{i} + \\phi_{i-1}}{\\Delta x^2} +  O(\\Delta x)^2 \n",
    "$$\n",
    "\n",
    "\n",
    "## Esquemas temporales\n",
    "\n",
    "<div align='justify'> Los esquemas anteriores sirven para aproximar derivadas espaciales. ¿Qué hacemos con las derivadas temporales? Debemos seguir usando Euler en sus diferentes versiones:</div>\n",
    "\n",
    "Tenindo la siguiente EDP:\n",
    "$$\n",
    "\\frac{d\\phi}{dt} = f (t,x,\\phi)\n",
    "$$\n",
    "\n",
    "Esquema explícito (Euler hacia adelante):\n",
    "$$\n",
    "    \\frac{\\phi^{n+1}_{i}-\\phi^{n}_{i}}{\\Delta t} = f_i^{n} (t,x,\\phi)\n",
    "$$\n",
    "\n",
    "Esquema implícito (Euler hacia atrás):\n",
    "$$\n",
    "    \\frac{\\phi^{n+1}_{i}-\\phi^{n}_{i}}{\\Delta t} = f_i^{n+1} (t,x,\\phi)\n",
    "$$\n",
    "\n"
   ]
  },
  {
   "cell_type": "markdown",
   "metadata": {},
   "source": [
    "## Problema \n",
    "\n",
    "<div align='justify'> Un grupo de ingenieros electrónicos se encuentran diseñando un sistema de electrónica de alta potencia para transmitir energía eléctrica generada por paneles solares hacia la red de distribución de energía eléctrica de la ciduad. Los cálculos de circuitos, conversores y filtros marchan bien. Sin embargo, hay un detalle diseño del que no están seguros: si una de las piezas soportará las concidiones térmicas. La pieza se muestra a continuación.  </div>\n",
    "\n",
    "<img src=https://raw.githubusercontent.com/juhincapiem/ModMat/refs/heads/main/Diagrams/placaPlana.png alt=\"Barrra hierro fundido\" width=\"700\" />\n",
    "\n",
    "<div align='justify'> En principio tienen pensando usar cobre puro, con las siguientes propiedades:</div>\n",
    "\n",
    "* $\\rho = 8933 \\, kg/m^3$\n",
    "* $C_p = 385 \\, J/kg.K$\n",
    "* $\\kappa = 401 \\, W/m.K$\n",
    "* Punto de fusión $1358 \\, K$\n",
    "\n",
    "<div align='justify'> Las dimensiones son:</div>\n",
    "\n",
    "* $L = 20 \\, cm$\n",
    "* $H = 20 \\, cm$"
   ]
  },
  {
   "cell_type": "markdown",
   "metadata": {},
   "source": [
    "## Modelo matemático\n",
    " \n",
    "\\begin{equation}\n",
    " \\rho C_p\\frac{d T}{d t} = \\kappa \\left (  \\frac{\\partial^2 T}{\\partial x^2} + \\frac{\\partial^2 T}{\\partial y^2}  \\right)\n",
    "\\end{equation}\n",
    "\n",
    "Sujeto a las siguientes condiciones de frontera:\n",
    "\n",
    "$$\n",
    "T(t,x = 0, y) = T(t,x, y = 0) = 300 \\, ^\\circ C\n",
    "$$\n",
    "\n",
    "\n",
    "$$\n",
    "T(t,x = L, y) = T(t,x, y = H) = 20 \\, ^\\circ C\n",
    "$$\n",
    "\n",
    "\n",
    "Y condición inicial:\n",
    "\n",
    "\n",
    "$$\n",
    "T(t=0, x, y) = 20 \\, ^\\circ C\n",
    "$$\n",
    "\n",
    "Excepto en:\n",
    "$$\n",
    "T(t=0, x = 0, y) = 300 \\, ^\\circ C\n",
    "$$\n",
    "\n",
    "$$\n",
    "T(t=0, x, y = 0) = 300 \\, ^\\circ C\n",
    "$$\n",
    "\n",
    "\n",
    "Gráficamente:\n",
    "\n",
    "\n",
    "\n",
    "<img src=https://raw.githubusercontent.com/juhincapiem/ModMat/refs/heads/main/Diagrams/placaPlanaFrontera.png alt=\"Barrra hierro fundido\" width=\"750\" />"
   ]
  },
  {
   "cell_type": "markdown",
   "metadata": {},
   "source": [
    "## Modelo numérico\n",
    "\n",
    "<div align='justify'> Para la solución de este modelo, se va a emplear método implícito para discretizar el tiempo, y un esquema de diferencias centradas para el espacio. Para empezar, se puede emplear pocos nodos:</div>\n",
    "\n",
    "\n",
    "<img src=https://raw.githubusercontent.com/juhincapiem/ModMat/refs/heads/main/Diagrams/placaPlanaMalla.png alt=\"Barrra hierro fundido\" width=\"450\" />\n",
    "\n",
    "\n",
    "\n",
    "Para este caso, el sistema de ecuaciones queda la siguiente forma:\n",
    "\n",
    "$$\n",
    "\\left[\\begin{array}{ccccccccc}\n",
    "T_{0,0} & T_{0,1} & T_{0,2} & T_{1,0} & T_{1,1} & T_{1,2} & T_{2,0} & T_{2,1} & T_{2,2} \\\\\n",
    "1 & 0 & 0 & 0 & 0 & 0 & 0 & 0 & 0 \\\\\n",
    "0 & 1 & 0 & 0 & 0 & 0 & 0 & 0 & 0 \\\\\n",
    "0 & 0 & 1 & 0 & 0 & 0 & 0 & 0 & 0 \\\\\n",
    "0 & 0 & 0 & 1 & 0 & 0 & 0 & 0 & 0 \\\\\n",
    "0 & -F_y & 0 & -F_x & 1+2F_x + 2F_y & -F_x & 0 & -F_y & 0 \\\\\n",
    "0 & 0 & 0 & 0 & 0 & 1 & 0 & 0 & 0 \\\\\n",
    "0 & 0 & 0 & 0 & 0 & 0 & 1 & 0 & 0 \\\\\n",
    "0 & 0 & 0 & 0 & 0 & 0 & 0 & 1 & 0 \\\\\n",
    "0 & 0 & 0 & 0 & 0 & 0 & 0 & 0 & 1\n",
    "\\end{array}\\right]\n",
    "\\left[\\begin{array}{l}\n",
    "T_{0,0} \\\\\n",
    "T_{0,1} \\\\\n",
    "T_{0,2} \\\\\n",
    "T_{1,0} \\\\\n",
    "T_{1,1} \\\\\n",
    "T_{1,2} \\\\\n",
    "T_{2,0} \\\\\n",
    "T_{2,1} \\\\\n",
    "T_{2,2}\n",
    "\\end{array}\\right]^{\\, n+1}\n",
    "= \\left(\\begin{array}{c}\n",
    "T_{c} \\\\\n",
    "T_{c} \\\\\n",
    "T_{c} \\\\\n",
    "T_{c} \\\\\n",
    "T_{1,1}^n \\\\\n",
    "T_{f} \\\\\n",
    "T_{f} \\\\\n",
    "T_{f} \\\\\n",
    "T_{f} \n",
    "\\end{array}\\right)\n",
    "$$\n",
    "\n",
    "\n",
    "## Calibración\n",
    "\n",
    "<div align='justify'> Como ya se mencionó, es muy buena idea usar pocos nodos mientras programamos el método. Así podemos visualizar la matriz y verificar que esté dando cosas con sentido. Por lo tanto, se emplea un $\\Delta x = \\Delta y = 0.3$ y $L = H = 60 \\, cm$. Para el tiempo se usa $\\Delta t = 0.1$ y $t_f = 0.1$.\n",
    "\n"
   ]
  },
  {
   "cell_type": "code",
   "execution_count": 197,
   "metadata": {},
   "outputs": [],
   "source": [
    "import numpy as np\n",
    "import matplotlib.pyplot as plt"
   ]
  },
  {
   "cell_type": "code",
   "execution_count": 198,
   "metadata": {},
   "outputs": [],
   "source": [
    "# Paso 00: definir propiedades geométricas\n",
    "H = 20/100 # Altura [m]\n",
    "L = 20/100 # Largo [m]\n",
    "\n",
    "# Paso 01: propiedades térmicas del material\n",
    "rho = 8933 # Densidad [kg/m3]\n",
    "Cp = 385   # Calor específico [J/kg.K]\n",
    "k = 401    # Conductividad térmica [W/m.K]\n",
    "alpha = k/(Cp*rho)"
   ]
  },
  {
   "cell_type": "code",
   "execution_count": null,
   "metadata": {},
   "outputs": [],
   "source": [
    "# Paso 02: definir número de nodos en el eje x\n",
    "x0 = 0.0; dx = 0.01\n",
    "\n",
    "# Paso 03: definir número de nodos en el eje y\n",
    "y0 = 0.0; dy = 0.01\n",
    "\n",
    "\n",
    "# Paso 04: definir el número de pasos temporales\n",
    "t0 = 0.0; tf = 10.0; dt = 0.1\n",
    "\n",
    "\n",
    "# Paso 05: crear matrices donde almacenar la temperatura actual, y la del futuro\n",
    "\n",
    "# Paso 06: crear matrices donde de posición nodal. Servirá para graficar\n"
   ]
  },
  {
   "cell_type": "code",
   "execution_count": null,
   "metadata": {},
   "outputs": [],
   "source": [
    "# Paso 07: llenar la matriz TPre con las condiciones iniciales\n"
   ]
  },
  {
   "cell_type": "code",
   "execution_count": null,
   "metadata": {},
   "outputs": [],
   "source": [
    "# Paso 08: incializar la matriz A y el vector b\n"
   ]
  },
  {
   "cell_type": "code",
   "execution_count": null,
   "metadata": {},
   "outputs": [],
   "source": [
    "# Paso 09: llenar la matriz A con los\n",
    "\n",
    "\n",
    "# Llenamos para j = 0, i = 0,1,2,...\n",
    "\n",
    "# Llenamos para j = NodosY-1, i = 0,1,2,...\n",
    "\n",
    "\n",
    "\n",
    "# Llenamos para todas las filas internas (las que es están entre la primera y la última)\n",
    "\n",
    "\n",
    "# Indicamos cuántas cifras para imprimir cualquier variable punto flotante\n",
    "np.set_printoptions(formatter={'float':\"{0:0.4f}\".format})\n"
   ]
  },
  {
   "cell_type": "code",
   "execution_count": null,
   "metadata": {},
   "outputs": [],
   "source": [
    "# Paso 10: resolver en el tiempo. A medida que se avanzan en el tiempo, se debe actualizar el vector b\n",
    "Tc = 300\n",
    "Tf = 20\n",
    "\n",
    "    # Resolvemos el sistema de ecuaciones lineales\n",
    "\n",
    "    \n",
    "    # Extraer del vector c la información para llenar la matriz TFut\n"
   ]
  },
  {
   "cell_type": "code",
   "execution_count": null,
   "metadata": {},
   "outputs": [
    {
     "data": {
      "image/png": "[encoded data removed]",
      "text/plain": [
       "<Figure size 800x500 with 2 Axes>"
      ]
     },
     "metadata": {},
     "output_type": "display_data"
    }
   ],
   "source": [
    "# Paso 11: hacemos unas buenas obras de arte\n"
   ]
  },
  {
   "cell_type": "code",
   "execution_count": null,
   "metadata": {},
   "outputs": [],
   "source": []
  }
 ],
 "metadata": {
  "kernelspec": {
   "display_name": "Python 3 (ipykernel)",
   "language": "python",
   "name": "python3"
  },
  "language_info": {
   "codemirror_mode": {
    "name": "ipython",
    "version": 3
   },
   "file_extension": ".py",
   "mimetype": "text/x-python",
   "name": "python",
   "nbconvert_exporter": "python",
   "pygments_lexer": "ipython3",
   "version": "3.10.11"
  }
 },
 "nbformat": 4,
 "nbformat_minor": 2
}
