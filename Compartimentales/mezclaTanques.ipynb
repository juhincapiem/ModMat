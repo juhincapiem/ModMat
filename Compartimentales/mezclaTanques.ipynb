{
 "cells": [
  {
   "cell_type": "markdown",
   "id": "aaaf4980",
   "metadata": {},
   "source": [
    "## Caso de estudio: mezclas en tanques\n",
    "### Juan S. Hincapié - Carlos Duque-Daza"
   ]
  },
  {
   "cell_type": "markdown",
   "id": "05de6990",
   "metadata": {},
   "source": [
    "### Introducción\n",
    "\n",
    "Reforcemos un poco lo que se ha visto en clase acerca de modelos para mezclas. Empecemos recordando el Teorema de Transporte de Reynolds:\n",
    "\n",
    "$$\n",
    "\\frac{D B_{\\text {sys }}}{D t}=\\frac{\\partial}{\\partial t} \\int_{\\mathrm{cv}} \\rho b d \\forall+\\int_{\\mathrm{cs}} \\rho b \\mathbf{V} \\cdot \\hat{\\mathbf{n}} d A\n",
    "$$\n",
    "\n",
    "El TTR establece la relación entre la variación de las propiedades de un sistema (también conocida como masa de control) con la variación de las propiedades en un volumen de control. A continuación se presentan valores posibles para $B_{\\text {sys }}$ (propiedad extensiva) y para $\\mathbf{b}$ (propiedad intensiva).\n",
    "\n",
    "$$\n",
    "\\begin{array}{c|c}\n",
    "B & b=B / m \\\\\n",
    "\\hline m & 1 \\\\\n",
    "m \\mathbf{V} & \\mathbf{V} \\\\\n",
    "\\frac{1}{2} m V^2 & \\frac{1}{2} V^2\n",
    "\\end{array}\n",
    "$$\n",
    "\n",
    "Para conservación de la masa obtenemos la siguiente relación:\n",
    "\n",
    "$$\n",
    "\\frac{D M_{\\text {sys }}}{D t}= 0 =\\frac{\\partial}{\\partial t} \\int_{\\mathrm{cv}} \\rho  d \\forall+\\int_{\\mathrm{cs}} \\rho  \\mathbf{V} \\cdot \\hat{\\mathbf{n}} d A\n",
    "$$\n",
    "\n",
    "Y se puede expresar de la siguiente manera:\n",
    "$$\n",
    "\\frac{\\partial M_{\\mathrm{cv}}}{\\partial t} + \\dot m_{sale} - \\dot m_{entra} = 0\n",
    "$$\n",
    "\n",
    "Si despejamos la cantidad de masa obtenemos:\n",
    "\n",
    "$$\n",
    "\\frac{\\partial M_{\\mathrm{cv}}}{\\partial t} = \\dot m_{entra} - \\dot m_{sale}\n",
    "$$\n",
    "\n",
    "Esta ecuación diferencial ordinaria es la que usamos para estudiar la concentración de cierta sustancia en cualquier momento. La ecuación que se presentó en clase es:\n",
    "\n",
    "\\begin{equation}\n",
    "    \\frac{dx_i}{dt}=(\\text{Tasa de entrada})_i-(\\text{Tasa de salida})_i \n",
    "    \\label{eq_pseudoeq}\n",
    "\\end{equation}\n"
   ]
  },
  {
   "cell_type": "markdown",
   "id": "51f0fb79",
   "metadata": {},
   "source": [
    "### Caso de estudio: concetración de salmuera\n",
    "\n",
    "\n",
    " <img src=https://raw.githubusercontent.com/juhincapiem/CFD-GNUM/main/T01/Fotos/esquema.jpg alt=\"Alternative text\" width=\"400\" />\n"
   ]
  }
 ],
 "metadata": {
  "kernelspec": {
   "display_name": "Python 3 (ipykernel)",
   "language": "python",
   "name": "python3"
  },
  "language_info": {
   "codemirror_mode": {
    "name": "ipython",
    "version": 3
   },
   "file_extension": ".py",
   "mimetype": "text/x-python",
   "name": "python",
   "nbconvert_exporter": "python",
   "pygments_lexer": "ipython3",
   "version": "3.10.11"
  }
 },
 "nbformat": 4,
 "nbformat_minor": 5
}
